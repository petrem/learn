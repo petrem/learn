{
 "cells": [
  {
   "cell_type": "markdown",
   "metadata": {},
   "source": [
    "# Functions"
   ]
  },
  {
   "cell_type": "markdown",
   "metadata": {},
   "source": [
    "## Even and Odd Functions\n",
    "\n",
    "### Definition\n",
    "\n",
    "* $ \\text{if}\\quad f(x) = f(-x), \\quad\\text{f is even}$ -- symmetric with respect to the y axis\n",
    "* $ \\text{if}\\quad f(x) = - f(-x), \\quad\\text{f is odd}$ -- rotational symmetry with respect to the origin\n",
    "\n",
    "### Notes\n",
    "\n",
    "* a function is not necessarily even or odd (most of the times it is neither)\n",
    "* the only odd _and_ even functions is $f(x) = 0$\n",
    "\n",
    "### Polynomial Functions\n",
    "\n",
    "$$ P(x) = \\sum_{n=0..N}{a_n x^n} $$\n",
    "\n",
    "* $P(x)$ is _even_ if the exponents of all terms are even. That is: $\\forall k \\in \\mathbb{N^0} \\text{ so that } 2k+1 \\le N, a_{2k+1} = 0$\n",
    "* $P(x)$ is _odd_ if the exponents of all terms are odd. That is: $\\forall k \\in \\mathbb{N^0} \\text{ so that } 2k \\le N,  a_{2k} = 0$\n",
    "* otherwise $P(x)$ is neither odd nor even"
   ]
  },
  {
   "cell_type": "markdown",
   "metadata": {},
   "source": [
    "## Inverse\n",
    "\n",
    "Given $f(x)$, g(x) is the inverse of $f$ if and only if:\n",
    "$$ f(g(x)) = x \\quad\\text{and}\\quad g(f(x)) = x $$\n",
    "\n",
    "Notation: the inverse function of $f$ is written ad $f^{-1}$.\n",
    "\n",
    "### Finding the inverse\n",
    "\n",
    "If \n",
    "$$y = f(x)$$\n",
    "\n",
    "exchanging the input and output variables:\n",
    "\n",
    "$$x=f(y)$$\n",
    "\n",
    "and solving for $y$ gives the inverse.\n",
    "\n",
    "Todo: why?"
   ]
  },
  {
   "cell_type": "markdown",
   "metadata": {},
   "source": [
    "## injections, surjections, bijection\n",
    "\n",
    "* a one-to-one function (injection) preserves distinctness; its graph is never intersected by any horizontal line twice: $\\forall x_1, x_2, x_1 \\ne x_2 \\implies f(x_1) \\ne f(x_2)$"
   ]
  },
  {
   "cell_type": "code",
   "execution_count": null,
   "metadata": {},
   "outputs": [],
   "source": []
  }
 ],
 "metadata": {
  "kernelspec": {
   "display_name": "Python 3",
   "language": "python",
   "name": "python3"
  },
  "language_info": {
   "codemirror_mode": {
    "name": "ipython",
    "version": 3
   },
   "file_extension": ".py",
   "mimetype": "text/x-python",
   "name": "python",
   "nbconvert_exporter": "python",
   "pygments_lexer": "ipython3",
   "version": "3.7.1"
  }
 },
 "nbformat": 4,
 "nbformat_minor": 2
}
