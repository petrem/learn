{
 "cells": [
  {
   "cell_type": "code",
   "execution_count": 1,
   "metadata": {},
   "outputs": [],
   "source": [
    "from functools import partial, reduce\n",
    "from itertools import *\n",
    "import operator\n",
    "import math\n",
    "\n",
    "from datascience import *\n",
    "import numpy as np\n",
    "import pandas as pd\n",
    "import matplotlib.pyplot as plt\n",
    "\n",
    "%matplotlib inline\n",
    "plt.style.use('fivethirtyeight')\n",
    "\n",
    "pd.set_option(\"display.max_rows\", 10)"
   ]
  },
  {
   "cell_type": "markdown",
   "metadata": {},
   "source": [
    "# Linear equation and lines\n",
    "\n",
    "$$ ax + b = 0 \\implies x = \\frac{-b}{a} $$\n",
    "\n",
    "\n"
   ]
  },
  {
   "cell_type": "markdown",
   "metadata": {},
   "source": [
    "## Slope\n",
    "\n",
    "Given points $(x_1, y_1), (x_2, y_2)$\n",
    "$$ m = \\frac{y_2 - y_1}{x_2 - x_1} $$\n",
    "\n",
    "### Slope and intercept\n",
    "\n",
    "Given a line $y = mx +b $\n",
    "* m is the slope\n",
    "* b is the y-intercept\n",
    "\n",
    "### Point-slope formula\n",
    "Given a slope m and a point $(x_1, y_1)$\n",
    "$$ y−y_1=m(x−x_1) $$"
   ]
  }
 ],
 "metadata": {
  "kernelspec": {
   "display_name": "Python 3",
   "language": "python",
   "name": "python3"
  },
  "language_info": {
   "codemirror_mode": {
    "name": "ipython",
    "version": 3
   },
   "file_extension": ".py",
   "mimetype": "text/x-python",
   "name": "python",
   "nbconvert_exporter": "python",
   "pygments_lexer": "ipython3",
   "version": "3.7.1"
  }
 },
 "nbformat": 4,
 "nbformat_minor": 2
}
