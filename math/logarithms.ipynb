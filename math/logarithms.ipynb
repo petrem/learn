{
 "cells": [
  {
   "cell_type": "markdown",
   "metadata": {},
   "source": [
    "# logarithms\n",
    "\n",
    "if $M = a^x$,  $log_a(M)=x$ (where $M,a \\in \\mathbb{R}_{\\ge0}$ and $a \\ne 1$)\n",
    "\n",
    "## properties\n",
    "\n",
    "* $\\log_a{(MN)}=\\log_a{M}+\\log_a{N}$\n",
    "  \n",
    "  proof:\n",
    "  \n",
    "  let $\\log_a{M} = x, \\log_a{N} = y$ or $a^x = M, a^y = N$,\n",
    "  $$a^x a^y = a^{x+y}$$\n",
    "  $$MN = a^{x+y}$$\n",
    "  $$\\log_a{(MN)} = \\log_a{(a^{x+y})}$$\n",
    "  $$\\log_a{(MN)} = x + y$$\n",
    "  $$\\log_a{(MN)} = \\log_a{M} + \\log_a{N}$$\n",
    "* $\\log_a{\\frac{M}{N}}=\\log_a{M} - \\log_a{N}$\n",
    "* $\\log_a{M^p}=p\\log_a{M}$\n",
    "* $\\forall a \\ge 0$, $\\log_a{1}=0$ (obviously, since $a^0 = 1$)\n",
    "* $\\log_a{b}=\\frac{\\log_c{b}}{\\log_c{a}}$ with $a,b,c \\in \\mathbb{R}_{\\ge0}$ and $a,c \\ne 1$\n",
    "  \n",
    "  proof:\n",
    "  $$\\log_a{b} = x \\iff a^x=b$$\n",
    "  applying log on the equality\n",
    "  $$\\log_c{a^x} = \\log_c{b}$$\n",
    "  $$x\\log_c{a} = \\log_c{b}$$\n",
    "  $$x = \\frac{\\log_c{b}}{\\log_c{a}}$$"
   ]
  },
  {
   "cell_type": "code",
   "execution_count": null,
   "metadata": {},
   "outputs": [],
   "source": []
  }
 ],
 "metadata": {
  "kernelspec": {
   "display_name": "Python 3",
   "language": "python",
   "name": "python3"
  },
  "language_info": {
   "codemirror_mode": {
    "name": "ipython",
    "version": 3
   },
   "file_extension": ".py",
   "mimetype": "text/x-python",
   "name": "python",
   "nbconvert_exporter": "python",
   "pygments_lexer": "ipython3",
   "version": "3.7.2"
  }
 },
 "nbformat": 4,
 "nbformat_minor": 2
}
