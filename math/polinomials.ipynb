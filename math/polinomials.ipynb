{
 "cells": [
  {
   "cell_type": "markdown",
   "metadata": {},
   "source": [
    "# Polinomials"
   ]
  },
  {
   "cell_type": "markdown",
   "metadata": {},
   "source": [
    "## factors theorem\n",
    "Given a polinomial P and a root k of P:\n",
    "$$P(x) = 0, \\forall k \\quad\\text{so that}\\quad P(k) = 0 \\iff P(x) = (x-k)q(x)$$\n",
    "where q(x) is a polinomial."
   ]
  },
  {
   "cell_type": "markdown",
   "metadata": {},
   "source": [
    "## division\n",
    "\n",
    "todo"
   ]
  },
  {
   "cell_type": "markdown",
   "metadata": {},
   "source": [
    "## Graphs\n",
    "\n",
    "### End behavior\n",
    "\n",
    "Having \n",
    "$$P(x) = a_n x^n + a_{n-1} x^{n-1} + ... + a_0 x^0,\\quad n \\in \\mathbb{N^*}, $$\n",
    "$$ \\lim_{x\\to\\infty} P(x) = -\\infty or \\infty$$\n",
    "\n",
    "It's graph will either fall or rise at its ends:\n",
    "\n",
    "n | $a_n$ > 0 | $a_n$ < 0\n",
    ":-|-----------|--------\n",
    "n is odd  | left: fall, right: rise | left: rise, right: fall\n",
    "n is even | left: rise, right: rise | left: fall, right: fall\n",
    "\n",
    "### Behavior near zeros\n",
    "\n",
    "* if a zero has odd multiplicity, the graph crosses the x axis\n",
    "* if it has even multiplicity, the graph does not cross the x axis"
   ]
  },
  {
   "cell_type": "markdown",
   "metadata": {},
   "source": [
    "## Remainder theorem\n",
    "\n",
    "Dividing a polinomial by $x - k$ gives a reminder of $P(k)$:\n",
    "\n",
    "$$ \\frac{P(x)}{(x - k)} = Q(x) + R(x) \\rightarrow R(x) = P(k) $$\n",
    "\n",
    "Proof:\n",
    "$$ P(x) = Q(x) (x - k) + R(x) $$\n",
    "$$ \\text{degree of } R < \\text{ degree of } (x - k) \\rightarrow R(x) \\text{ is a constant}$$\n",
    "$$ P(k) = Q(k) (k - k) + R(x) $$\n",
    "$$ P(k) = R(x) $$\n",
    "q.e.d."
   ]
  }
 ],
 "metadata": {
  "kernelspec": {
   "display_name": "Python 3",
   "language": "python",
   "name": "python3"
  },
  "language_info": {
   "codemirror_mode": {
    "name": "ipython",
    "version": 3
   },
   "file_extension": ".py",
   "mimetype": "text/x-python",
   "name": "python",
   "nbconvert_exporter": "python",
   "pygments_lexer": "ipython3",
   "version": "3.7.1"
  }
 },
 "nbformat": 4,
 "nbformat_minor": 2
}
