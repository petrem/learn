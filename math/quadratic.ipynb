{
 "cells": [
  {
   "cell_type": "markdown",
   "metadata": {},
   "source": [
    "# Quadratic Equation\n",
    "\n",
    "$$ f(x) = ax^2 + bx +c $$\n",
    "$$x_{1,2} = \\frac{-b \\pm \\sqrt{b^2 - 4ac}}{2a} $$"
   ]
  },
  {
   "cell_type": "markdown",
   "metadata": {},
   "source": [
    "## Quadratic Formulas\n",
    "\n",
    "$$ (a + b)^2 = (a + b)(a + b) = a^2 + 2ab + b^2 $$\n",
    "$$ (a - b)^2 = (a - b)(a - b) = a^2 - 2ab + b^2 $$\n",
    "$$ (a + b)(a - b) = a^2 - b^2 $$\n",
    "\n",
    "$$(x+a)(x+b) = x^2 + (a+b)x + ab$$\n",
    "$$(x+a)(x-b) = x^2 + (a-b)x - ab$$\n",
    "$$(x-a)(x-b) = x^2 - (a+b)x + ab$$\n"
   ]
  },
  {
   "cell_type": "markdown",
   "metadata": {},
   "source": [
    "## Completing the Square\n",
    "\n",
    "### General case\n",
    "\n",
    "Given $ax^2 + bx + c$, it can be written as $a\\big(x+\\frac{b}{2a}\\big)^2 -a\\big(\\frac{b}{2a}\\big)^2+c$\n",
    "\n",
    "This is from:\n",
    "$$a\\left(x^2+\\frac{b}{a}x\\right)+c$$\n",
    "Now take $\\frac{b}{a}$ divided by 2 and sqared, add and subtract it:\n",
    "$$a \\left[ x^2 + \\frac{b}{a}x + \\left( \\frac{b}{2a} \\right)^2 - \\left( \\frac{b}{2a} \\right)^2 \\right] + c$$\n",
    "$$a \\left[ x^2 + \\frac{b}{a}x + \\left( \\frac{b}{2a} \\right)^2 \\right] - a\\left(\\frac{b}{2a}\\right)^2+c$$\n",
    "Notice that in the square parens we now have a perfect square:\n",
    "$$a \\left[ x + \\left( \\frac{b}{2a} \\right) \\right]^2 - a\\left(\\frac{b}{2a}\\right)^2+c$$\n",
    "\n",
    "#### Example\n",
    "\n",
    "$$4x^2 - 5$$\n",
    "$$4(x+3)^2 - 5$$\n",
    "$$4(x^2 + 6x + 9) - 5$$\n",
    "$$4x^2 +24x +31 $$\n",
    "\n",
    "### Simplyfied case\n",
    "\n",
    "Given:\n",
    "$$ x^2 + kx $$\n",
    "add $\\left(\\frac{k}{2}\\right)^2$:\n",
    "$$ x^2 + kx + \\left(\\frac{k}{2}\\right)^2 $$\n",
    "$$ (x + \\frac{k}{2})^2 $$\n",
    "\n",
    "#### Example\n",
    "\n",
    "$$x^2 + 2x -6 = 0$$\n",
    "$$x^2 + 2x = 6$$\n",
    "$$x^2 + 2x + \\left(\\frac{2}{2}\\right)^2 = 6 + \\left(\\frac{2}{2}\\right)^2$$\n",
    "$$(x + 1)^2 = 7$$\n",
    "$$x + 1 = \\pm\\sqrt{7}$$\n",
    "$$x = \\sqrt{7} - 1, -\\sqrt{7} - 1$$"
   ]
  },
  {
   "cell_type": "markdown",
   "metadata": {},
   "source": [
    "## Parabola\n",
    "\n",
    "Graph of a quadratic equation with vertex (h, k):\n",
    "\n",
    "$$ a(x-h)^2 + k \\text{, where } a \\ne 0 $$\n",
    "\n",
    "Given\n",
    "\n",
    "$$ ax^2 + bx + c$$\n",
    "\n",
    "the vertex is at $x = \\frac{-b}{2a}$"
   ]
  },
  {
   "cell_type": "code",
   "execution_count": null,
   "metadata": {},
   "outputs": [],
   "source": []
  }
 ],
 "metadata": {
  "kernelspec": {
   "display_name": "Python 3",
   "language": "python",
   "name": "python3"
  },
  "language_info": {
   "codemirror_mode": {
    "name": "ipython",
    "version": 3
   },
   "file_extension": ".py",
   "mimetype": "text/x-python",
   "name": "python",
   "nbconvert_exporter": "python",
   "pygments_lexer": "ipython3",
   "version": "3.7.1"
  }
 },
 "nbformat": 4,
 "nbformat_minor": 2
}
