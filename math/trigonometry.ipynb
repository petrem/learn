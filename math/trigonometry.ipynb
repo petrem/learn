{
 "cells": [
  {
   "cell_type": "markdown",
   "metadata": {},
   "source": [
    "# Trigonometry"
   ]
  },
  {
   "cell_type": "markdown",
   "metadata": {},
   "source": [
    "## Angles\n",
    "\n",
    "### Definitions\n",
    "\n",
    "Having two *rays* with a common *vortex*, the rotation from one ray (the initial side) to the other ray (the terminal side) determines an *angle*.\n",
    "\n",
    "Term | Definition\n",
    ":--- | ----------\n",
    "ray | A ray is a part of a line that starts at a point and goes on forever in one direction.\n",
    "vertex | (in this context) The point where the two rays, or sides, of the angle meet. \n",
    "coterminal angles | Two angles are coterminal if they have the same initial and terminal sides.\n",
    "standard angle position | angle having the vertex O and initial side along the Ox on the rectangular reference sysmte (xOy)\n",
    "quadrantal angle | Angle whose (degree) measure is an integer multiple of $90^\\circ$\n",
    "acute, obtuse angles | Oh, you know this!\n",
    "reference angle | For a non-quadrantal angle $\\theta$, its reference angle $\\widehat\\theta$ is the acute angle formed by its terminal side with the X axis\n",
    "\n",
    "### Calculating stuff\n",
    "\n",
    "* Finding a coterminal angle: add/substract $360^\\circ$ (or $2\\pi$) until it gets between $0$ and $2\\pi$.\n",
    "* Finding reference angle for $\\theta, \\theta > 0$, first get its coterminal angle $\\theta'$, then, depending on which quadrant it is in:\n",
    "    * I: $\\widehat\\theta = \\theta'$\n",
    "    * II: $\\widehat\\theta = \\pi - \\theta'$\n",
    "    * III: $\\widehat\\theta = \\theta' - \\pi$\n",
    "    * IV: $\\widehat\\theta = 2\\pi -\\theta'$\n",
    "    \n",
    "* Degrees to radians: $\\theta_{rad} = \\frac{2\\pi}{360^\\circ}\\theta^\\circ$\n",
    "* Radians to degrees: $\\theta^\\circ = \\frac{360^\\circ}{2\\pi}\\theta_{rad}$\n"
   ]
  },
  {
   "cell_type": "markdown",
   "metadata": {},
   "source": [
    "### Well-known/important angles\n",
    "\n",
    "<img src=\"img/1024px-Unit_circle_angles_color.svg.png\" alt=\"Angles\" style=\"width: 500px;\"/>"
   ]
  },
  {
   "cell_type": "markdown",
   "metadata": {},
   "source": [
    "## Trigonometric functions\n",
    "\n",
    "### Trigonometirc ratios (Right triangle definitions)\n",
    "\n",
    "Considering the triangle ABC with chateti AB, AC and hypotenuse BC:\n",
    "![Right triangle](img/330px-Euklidova_veta.svg.png)\n"
   ]
  },
  {
   "cell_type": "markdown",
   "metadata": {},
   "source": [
    "Fn | Abbr. | Definition +++++++++++++++++++++++++++++++++\n",
    ":--|-------|---------------------------------------------\n",
    "sine | sin | $ \\sin \\alpha = \\frac{a}{c} $\n",
    "cosecant | csc | $ \\csc \\alpha = \\frac{c}{a} $\n",
    "cosine | cos | $ \\cos \\alpha = \\frac{b}{c} $\n",
    "secant | sec | $ \\sec \\alpha = \\frac{c}{b} $\n",
    "tangent | tg, tan | $ \\tan \\alpha = \\frac{a}{b} $\n",
    "cotangent | cot | $ \\cot \\alpha = \\frac{b}{a} $"
   ]
  },
  {
   "cell_type": "markdown",
   "metadata": {},
   "source": [
    "## Trigonometric function laws in the triangle\n",
    "\n",
    "Given a triangle\n",
    "<img src=\"img/Triangle_with_notations.svg\" alt=\"Triangle with notations\" style=\"width: 200px;\"/>\n",
    "\n",
    "### Law of sines\n",
    "\n",
    "$$ \\frac{\\sin \\alpha}{a} = \\frac{\\sin \\beta}{b} = \\frac{\\sin \\gamma}{c} $$\n",
    "\n",
    "### Law of cosines (generalized pythagorean theorem?)\n",
    "\n",
    "$$ a^2 = b^2 + c^2 - 2bc\\cos\\alpha $$\n",
    "\n",
    "$$ b^2 = a^2 + c^2 - 2ac\\cos\\beta $$\n",
    "\n",
    "$$ c^2 = a^2 + b^2 - 2ab\\cos\\gamma $$"
   ]
  },
  {
   "cell_type": "markdown",
   "metadata": {},
   "source": [
    "### Trigonometric functions (Unit circle definitions)\n",
    "\n",
    "Considering the unit circle:\n",
    "<img src=\"img/1024px-Unit_circle.svg.png\" alt=\"Unit circle\" style=\"width: 200px;\"/>\n",
    "\n",
    "Let P be the point of intersection at coordinates (x, y). Then:"
   ]
  },
  {
   "cell_type": "markdown",
   "metadata": {},
   "source": [
    "Fn | Abbr. | Definition ..........................................\n",
    ":--|-------|------------------------------------------------------\n",
    "sine | sin | $ \\sin \\alpha = y $\n",
    "cosecant | csc | $ \\csc \\alpha = (\\sin \\alpha)^{-1} = \\frac{1}{y}, y \\neq 0 $\n",
    "cosine | cos | $ \\cos \\alpha = x $\n",
    "secant | sec | $ \\sec \\alpha = (\\cos \\alpha)^{-1} = \\frac{1}{x}, x \\neq 0 $\n",
    "tangent | tg, tan | $ \\tan \\alpha = \\frac{y}{x}, x \\neq 0 $\n",
    "cotangent | cot | $ \\cot \\alpha = (\\tan \\alpha)^{-1} = \\frac{x}{y}, y \\neq 0 $"
   ]
  },
  {
   "cell_type": "markdown",
   "metadata": {},
   "source": [
    "### Inverse functions\n",
    "\n",
    "Trigonometric functions with restricted domain have inverses (otherwise they repeat and therefore are not one-to-one and do not have inverses).\n",
    "\n",
    "Fn | Abbr. | Definition ....................................................... | ......Domain...... | .......Range.......\n",
    "---|-------|--------------------------------------------------------------------|--------|--------\n",
    "inverse sine | arcsin | $ y = \\arcsin \\alpha = \\sin^{-1}\\alpha \\iff \\sin \\alpha = y $ | $x \\in [-1, 1] $ | $y \\in [-\\frac{\\pi}{2}, \\frac{\\pi}{2}] $\n",
    "inverse cosine | arccos | $ \\arccos \\alpha = \\cos^{-1}\\alpha $ | $x \\in [-1, 1] $ | $y \\in [0, \\pi] $\n",
    "inverse tangent | arctan | $ \\arctan \\alpha = \\tan^{-1}\\alpha $ | $x \\in [-\\infty, \\infty] $ | $y \\in [-\\frac{\\pi}{2}, \\frac{\\pi}{2}] $"
   ]
  },
  {
   "cell_type": "markdown",
   "metadata": {},
   "source": [
    "## Identities"
   ]
  },
  {
   "cell_type": "markdown",
   "metadata": {},
   "source": [
    "### Reciprocal identities\n",
    "\n",
    "$$ \\sec \\theta = \\frac{1}{\\cos \\theta} $$\n",
    "\n",
    "$$ \\csc \\theta = \\frac{1}{\\sin \\theta} $$\n",
    "\n",
    "$$ \\cot \\theta = \\frac{1}{\\tan \\theta} $$"
   ]
  },
  {
   "cell_type": "markdown",
   "metadata": {},
   "source": [
    "### Quotient identities\n",
    "\n",
    "$$ \\tan \\theta = \\frac{\\sin \\theta}{\\cos \\theta} $$\n",
    "\n",
    "$$ \\cot \\theta = \\frac{\\cos \\theta}{\\sin \\theta} $$"
   ]
  },
  {
   "cell_type": "markdown",
   "metadata": {},
   "source": [
    "### Pythagorean identities\n",
    "\n",
    "$$\\sin^2\\theta + \\cos^2\\theta = 1$$\n",
    "\n",
    "$$1+\\tan^2\\theta = \\sec^2\\theta$$\n",
    "\n",
    "$$1+\\cot^2\\theta = \\csc^2\\theta$$"
   ]
  },
  {
   "cell_type": "markdown",
   "metadata": {},
   "source": [
    "### Cofunction Identities\n",
    "\n",
    "$$ \\sin\\Big(\\frac{\\pi}{2}-\\theta\\Big) = \\cos \\theta$$\n",
    "\n",
    "$$ \\cos\\Big(\\frac{\\pi}{2}-\\theta\\Big) = \\sin \\theta $$\n",
    "\n",
    "$$ \\tan\\Big(\\frac{\\pi}{2}-\\theta\\Big) = \\cot \\theta $$\n",
    "\n",
    "$$ \\cot\\Big(\\frac{\\pi}{2}-\\theta\\Big) = \\tan \\theta $$\n",
    "\n",
    "$$ \\sec\\Big(\\frac{\\pi}{2}-\\theta\\Big) = \\csc \\theta $$\n",
    "\n",
    "$$ \\csc\\Big(\\frac{\\pi}{2}-\\theta\\Big) = \\sec \\theta $$\n"
   ]
  },
  {
   "cell_type": "markdown",
   "metadata": {},
   "source": [
    "### Odd/Even function\n",
    "\n",
    "$$ \\sin(-\\theta) = -\\sin(\\theta)$$\n",
    "\n",
    "$$ \\cos(-\\theta) = -\\cos(\\theta)$$\n",
    "\n",
    "$$ \\tan(-\\theta) = -\\tan(\\theta)$$\n",
    "\n",
    "$$ \\csc(-\\theta) = -\\csc(\\theta)$$\n",
    "\n",
    "$$ \\sec(-\\theta) = -\\sec(\\theta)$$\n",
    "\n",
    "$$ \\cot(-\\theta) = -\\cot(\\theta)$$\n"
   ]
  },
  {
   "cell_type": "markdown",
   "metadata": {},
   "source": [
    "### Double angle formulas\n",
    "\n",
    "$$ \\sin (2x) = 2\\sin x\\cos x $$\n",
    "\n",
    "$$ \\cos(2x) = \\cos^2 x - \\sin^2 x = 2\\cos^2 x - 1 = 1 - 2\\sin^2 x $$\n",
    "\n",
    "$$ \\tan(2x) = \\frac{2\\tan x}{1-\\tan^2 x} $$"
   ]
  },
  {
   "cell_type": "markdown",
   "metadata": {},
   "source": [
    "### Half angle formulas\n",
    "\n",
    "$$ \\sin\\Big(\\frac{x}{2}\\Big) = \\pm\\sqrt{\\frac{1-\\cos x}{2}} $$\n",
    "\n",
    "$$ \\cos\\Big(\\frac{x}{2}\\Big) = \\pm\\sqrt{\\frac{1+\\cos x}{2}} $$\n",
    "\n",
    "$$ \\tan\\Big(\\frac{x}{2}\\Big) = \\frac{\\sin x}{1+\\cos x} = \\frac{1 - \\cos x}{\\sin x}$$"
   ]
  },
  {
   "cell_type": "markdown",
   "metadata": {},
   "source": [
    "### Power Reducing Formulas\n",
    "\n",
    "$$ \\sin^2 x = \\frac{1-\\cos 2x}{2} $$\n",
    "\n",
    "$$ \\cos^2 x = \\frac{1+\\cos 2x}{2} $$\n",
    "\n",
    "$$ \\tan^2 x = \\frac{1 - \\cos 2x}{1 + \\cos 2x} $$"
   ]
  },
  {
   "cell_type": "markdown",
   "metadata": {},
   "source": [
    "### Sum and difference formulas\n",
    "\n",
    "$$ \\cos(x+y) = \\cos x\\cos y - \\sin x\\sin y $$\n",
    "\n",
    "$$ \\cos(x-y) = \\cos x\\cos y + \\sin x\\sin y $$\n",
    "\n",
    "$$ \\sin(x+y) = \\sin x\\cos y + \\cos x\\sin y $$\n",
    "\n",
    "$$ \\sin(x-y) = \\sin x\\cos y - \\cos x\\sin y $$\n",
    "\n",
    "$$ \\tan(x+y) = \\frac{\\tan x + \\tan y}{1 - \\tan x\\tan y} $$\n",
    "\n",
    "$$ \\tan(x-y) = \\frac{\\tan x - \\tan y}{1 + \\tan x\\tan y} $$"
   ]
  }
 ],
 "metadata": {
  "kernelspec": {
   "display_name": "Python 3",
   "language": "python",
   "name": "python3"
  },
  "language_info": {
   "codemirror_mode": {
    "name": "ipython",
    "version": 3
   },
   "file_extension": ".py",
   "mimetype": "text/x-python",
   "name": "python",
   "nbconvert_exporter": "python",
   "pygments_lexer": "ipython3",
   "version": "3.7.1"
  }
 },
 "nbformat": 4,
 "nbformat_minor": 2
}
