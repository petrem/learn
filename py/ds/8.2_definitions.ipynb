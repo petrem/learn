{
 "cells": [
  {
   "cell_type": "code",
   "execution_count": 2,
   "metadata": {},
   "outputs": [],
   "source": [
    "from functools import partial, reduce\n",
    "from itertools import *\n",
    "import operator\n",
    "\n",
    "from datascience import *\n",
    "import numpy as np\n",
    "import pandas as pd\n",
    "import matplotlib.pyplot as plt\n",
    "\n",
    "%matplotlib inline\n",
    "plt.style.use('fivethirtyeight')\n",
    "\n",
    "pd.set_option(\"display.max_rows\", 20)"
   ]
  },
  {
   "cell_type": "markdown",
   "metadata": {},
   "source": [
    "# definitions\n",
    "\n",
    "term |  definition\n",
    ":--- | :---------\n",
    "experiment | a situation involving chance\n",
    "trial | ??\n",
    "outcome | a result of a single trial\n",
    "outcomes | all the possible results of the experiment\n",
    "event | one (or more?) outcomes actually occurring\n",
    "compound event | an event consisting on two or more events (multiple trials?)\n",
    "probability (of an event) | likelihood of an event occurring\n",
    "sample space | set of all possible outcomes of that experiment\n",
    "mutually exclusive events | they cannot occur at the same time (no outcomes in common)\n",
    "independent events | A and B are independent of occurance of A does not influence probability of B occuring\n",
    "conditional probability | the probability that event B occurs given that event A has already occurred: $$p(B|A)$$"
   ]
  },
  {
   "cell_type": "markdown",
   "metadata": {},
   "source": [
    "$$(1)\\qquad P(A) = \\frac {\\text{number of ways event A can occur}}{\\text{total number of possible outcomes}}$$\n",
    "\n",
    "$$(2)\\qquad \\sum_{A \\in S} P(A) = 1, \\quad \\text{S is the sample space}$$\n",
    "\n",
    "$$(3)\\qquad P(\\bar{A}) = 1 - P(A)$$\n",
    "\n",
    "$$(4)\\qquad P(A \\lor B) = P(A) + P(B), \\quad A \\cap B = \\emptyset \\quad \\text{(exclusive events)}$$\n",
    "\n",
    "$$(5)\\qquad P(A \\lor B) = P(A) + P(B) - P(A \\land B), \\quad A \\cap B \\neq \\emptyset  \\quad \\text{(non-exclusive events)}$$\n",
    "\n",
    "$$(6)\\qquad P(A \\land B) = P(A) * P(B), \\quad P(B|A) = P(B|{\\bar A}) \\quad \\text{(independent events)}$$\n",
    "\n",
    "$$(7)\\qquad P(A \\land B) = P(A) * P(B|A), \\quad P(B|A) \\neq P(B|{\\bar A}) \\quad \\text{(dependent events)}$$\n",
    "\n",
    "$$(8)\\qquad P(B|A) = \\frac{P(A \\land B)}{P(A)}$$"
   ]
  },
  {
   "cell_type": "markdown",
   "metadata": {},
   "source": [
    "A way to represent \"Does not imply\": $$A \\not \\Rightarrow B$$"
   ]
  },
  {
   "cell_type": "markdown",
   "metadata": {},
   "source": [
    "# more definitions\n",
    "\n",
    "term |  definition\n",
    "--- | ---\n",
    "sample | A set of data collected and/or selected from a statistical population by a defined procedure. The elements of a sample are known as sample points, sampling units or observations\n",
    "statistic | A single measure of some attribute of a sample (e.g. its arithmetic mean value). It is calculated by applying a function (statistical algorithm) to the values of the items of the sample, which are known together as a set of data. The term statistic is used both for the function and for the value of the function on a given sample.\n",
    "variable | a formal name for \"features\" of individuals, that may have different values throughout the population\n",
    "quantitative or numerical variables | have numeric values, the feature is a measure\n",
    "categorical variables | values are indicating a category the individual is part of\n",
    "distribution | shows all the values of a variable, along with the frequency of each one"
   ]
  },
  {
   "cell_type": "markdown",
   "metadata": {},
   "source": [
    "# even more definitions\n",
    "\n",
    "term |  definition\n",
    "--- | ---\n",
    "total variation distance between two distributions | sum of all the absolute differences for each category divided by two (as positive and negative diffs will be equal)"
   ]
  },
  {
   "cell_type": "markdown",
   "metadata": {},
   "source": [
    "* testing hypotesises\n",
    "* hypotesis: a model/chance model\n",
    "  * well defined: able to simulate the data under the assuption, there is no missing information\n",
    "* null (nothing is going on other than chance) and alternative (yes, something else explains the data) hypotesis\n",
    "* test statistic: the statistic used to test the null hypotesis\n",
    "* empirical distribution of the statistic under the null hypotesis: the distribution of the simulated values\n",
    "  * this is a prediction: how the statistic ought to behave if the null hypotesis were be true\n",
    "* observed test statistic: the one from the sample, not simulated\n",
    "  * compare with the simulated distribution\n",
    "  * if not consistent -> reject the null hypotesis\n",
    "  * consistency: a judgement about the comparison; there are conventions but ultimately it is a jugement\n",
    "* P-value: observed significance value, the chance (under the null hypotesis) that the test statistic is equal to the observed statistic (from the sample data) or even further in the direction of the alternative hypotesys"
   ]
  },
  {
   "cell_type": "code",
   "execution_count": null,
   "metadata": {},
   "outputs": [],
   "source": []
  }
 ],
 "metadata": {
  "kernelspec": {
   "display_name": "Python 3",
   "language": "python",
   "name": "python3"
  },
  "language_info": {
   "codemirror_mode": {
    "name": "ipython",
    "version": 3
   },
   "file_extension": ".py",
   "mimetype": "text/x-python",
   "name": "python",
   "nbconvert_exporter": "python",
   "pygments_lexer": "ipython3",
   "version": "3.6.5"
  }
 },
 "nbformat": 4,
 "nbformat_minor": 2
}
