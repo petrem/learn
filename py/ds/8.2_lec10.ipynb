{
 "cells": [
  {
   "cell_type": "code",
   "execution_count": 1,
   "metadata": {},
   "outputs": [],
   "source": [
    "from functools import partial, reduce\n",
    "from itertools import *\n",
    "import operator\n",
    "\n",
    "from datascience import *\n",
    "import numpy as np\n",
    "import pandas as pd\n",
    "import matplotlib.pyplot as plt\n",
    "\n",
    "%matplotlib inline\n",
    "plt.style.use('fivethirtyeight')\n",
    "\n",
    "pd.set_option(\"display.max_rows\", 10)"
   ]
  },
  {
   "cell_type": "code",
   "execution_count": 2,
   "metadata": {},
   "outputs": [],
   "source": [
    "# stolen from https://github.com/data-8/datascience/blob/master/datascience/formats.py\n",
    "\n",
    "\n",
    "def format_number(value, decimals=2, separator=','):\n",
    "    if isinstance(value, (int, np.integer)):\n",
    "        return ('{:' + separator + 'd}').format(value)\n",
    "    else:\n",
    "        return ('{:' + separator + '.' + str(decimals) + 'f}').format(value)"
   ]
  },
  {
   "cell_type": "code",
   "execution_count": 3,
   "metadata": {
    "scrolled": false
   },
   "outputs": [
    {
     "data": {
      "text/html": [
       "<style  type=\"text/css\" >\n",
       "</style>  \n",
       "<table id=\"T_d3dbc20c_955c_11e8_8c77_d60000588901\" > \n",
       "<thead>    <tr> \n",
       "        <th class=\"blank level0\" ></th> \n",
       "        <th class=\"col_heading level0 col0\" >Organization Group</th> \n",
       "        <th class=\"col_heading level0 col1\" >Job</th> \n",
       "        <th class=\"col_heading level0 col2\" >Total Compensation</th> \n",
       "    </tr></thead> \n",
       "<tbody>    <tr> \n",
       "        <th id=\"T_d3dbc20c_955c_11e8_8c77_d60000588901level0_row0\" class=\"row_heading level0 row0\" >0</th> \n",
       "        <td id=\"T_d3dbc20c_955c_11e8_8c77_d60000588901row0_col0\" class=\"data row0 col0\" >Public Works, Transportation & Commerce</td> \n",
       "        <td id=\"T_d3dbc20c_955c_11e8_8c77_d60000588901row0_col1\" class=\"data row0 col1\" >Water Qualitytech I/II</td> \n",
       "        <td id=\"T_d3dbc20c_955c_11e8_8c77_d60000588901row0_col2\" class=\"data row0 col2\" >117,766.86</td> \n",
       "    </tr>    <tr> \n",
       "        <th id=\"T_d3dbc20c_955c_11e8_8c77_d60000588901level0_row1\" class=\"row_heading level0 row1\" >1</th> \n",
       "        <td id=\"T_d3dbc20c_955c_11e8_8c77_d60000588901row1_col0\" class=\"data row1 col0\" >Public Works, Transportation & Commerce</td> \n",
       "        <td id=\"T_d3dbc20c_955c_11e8_8c77_d60000588901row1_col1\" class=\"data row1 col1\" >Soft Floor Coverer</td> \n",
       "        <td id=\"T_d3dbc20c_955c_11e8_8c77_d60000588901row1_col2\" class=\"data row1 col2\" >41,209.83</td> \n",
       "    </tr>    <tr> \n",
       "        <th id=\"T_d3dbc20c_955c_11e8_8c77_d60000588901level0_row2\" class=\"row_heading level0 row2\" >2</th> \n",
       "        <td id=\"T_d3dbc20c_955c_11e8_8c77_d60000588901row2_col0\" class=\"data row2 col0\" >Community Health</td> \n",
       "        <td id=\"T_d3dbc20c_955c_11e8_8c77_d60000588901row2_col1\" class=\"data row2 col1\" >Health Care Billing Clerk 2</td> \n",
       "        <td id=\"T_d3dbc20c_955c_11e8_8c77_d60000588901row2_col2\" class=\"data row2 col2\" >110,561.13</td> \n",
       "    </tr></tbody> \n",
       "</table> "
      ],
      "text/plain": [
       "<pandas.io.formats.style.Styler at 0x11f3a5048>"
      ]
     },
     "execution_count": 3,
     "metadata": {},
     "output_type": "execute_result"
    }
   ],
   "source": [
    "sf = pd.read_csv('san_francisco_2015.csv', usecols=(3,11,21))\n",
    "sf = sf[sf['Total Compensation'] > 10000]\n",
    "sf[0:3].style.format({\"Total Compensation\": format_number})"
   ]
  },
  {
   "cell_type": "code",
   "execution_count": 4,
   "metadata": {},
   "outputs": [
    {
     "data": {
      "text/plain": [
       "array([[<matplotlib.axes._subplots.AxesSubplot object at 0x10f7cf400>]],\n",
       "      dtype=object)"
      ]
     },
     "execution_count": 4,
     "metadata": {},
     "output_type": "execute_result"
    },
    {
     "data": {
      "image/png": "[encoded data removed]",
      "text/plain": [
       "<Figure size 432x288 with 1 Axes>"
      ]
     },
     "metadata": {},
     "output_type": "display_data"
    }
   ],
   "source": [
    "comp_bins = np.arange(0, 700000, 25000)\n",
    "sf.hist('Total Compensation', bins=comp_bins, ec='w')"
   ]
  },
  {
   "cell_type": "code",
   "execution_count": 7,
   "metadata": {},
   "outputs": [],
   "source": [
    "def percentile_amigos(p, a=None):\n",
    "    if a is None:\n",
    "        return partial(percentile_amigos, p)\n",
    "    return (\n",
    "        percentile(p, a),\n",
    "        np.median(a),\n",
    "        np.percentile(a, p))"
   ]
  },
  {
   "cell_type": "code",
   "execution_count": 8,
   "metadata": {},
   "outputs": [
    {
     "data": {
      "text/plain": [
       "(107219.48, 107219.48, 107219.48)"
      ]
     },
     "execution_count": 8,
     "metadata": {},
     "output_type": "execute_result"
    }
   ],
   "source": [
    "percentile_amigos(50, sf['Total Compensation'])"
   ]
  },
  {
   "cell_type": "code",
   "execution_count": 9,
   "metadata": {},
   "outputs": [
    {
     "data": {
      "text/html": [
       "<div>\n",
       "<style scoped>\n",
       "    .dataframe tbody tr th:only-of-type {\n",
       "        vertical-align: middle;\n",
       "    }\n",
       "\n",
       "    .dataframe tbody tr th {\n",
       "        vertical-align: top;\n",
       "    }\n",
       "\n",
       "    .dataframe thead th {\n",
       "        text-align: right;\n",
       "    }\n",
       "</style>\n",
       "<table border=\"1\" class=\"dataframe\">\n",
       "  <thead>\n",
       "    <tr style=\"text-align: right;\">\n",
       "      <th></th>\n",
       "      <th>Organization Group</th>\n",
       "      <th>Job</th>\n",
       "      <th>Total Compensation</th>\n",
       "    </tr>\n",
       "  </thead>\n",
       "  <tbody>\n",
       "    <tr>\n",
       "      <th>25250</th>\n",
       "      <td>Community Health</td>\n",
       "      <td>Hospital Eligiblity Worker</td>\n",
       "      <td>111966.59</td>\n",
       "    </tr>\n",
       "    <tr>\n",
       "      <th>41429</th>\n",
       "      <td>Community Health</td>\n",
       "      <td>Eligibility Worker</td>\n",
       "      <td>105501.27</td>\n",
       "    </tr>\n",
       "    <tr>\n",
       "      <th>22033</th>\n",
       "      <td>Public Works, Transportation &amp; Commerce</td>\n",
       "      <td>Transit Operator</td>\n",
       "      <td>12359.03</td>\n",
       "    </tr>\n",
       "    <tr>\n",
       "      <th>19418</th>\n",
       "      <td>General Administration &amp; Finance</td>\n",
       "      <td>Attorney (Civil/Criminal)</td>\n",
       "      <td>157211.73</td>\n",
       "    </tr>\n",
       "    <tr>\n",
       "      <th>12328</th>\n",
       "      <td>Public Works, Transportation &amp; Commerce</td>\n",
       "      <td>Stdntdsgntrain1, Arch/Eng/Plng</td>\n",
       "      <td>35525.30</td>\n",
       "    </tr>\n",
       "    <tr>\n",
       "      <th>...</th>\n",
       "      <td>...</td>\n",
       "      <td>...</td>\n",
       "      <td>...</td>\n",
       "    </tr>\n",
       "    <tr>\n",
       "      <th>33009</th>\n",
       "      <td>Community Health</td>\n",
       "      <td>Medical Records Technician</td>\n",
       "      <td>105685.91</td>\n",
       "    </tr>\n",
       "    <tr>\n",
       "      <th>34544</th>\n",
       "      <td>Public Works, Transportation &amp; Commerce</td>\n",
       "      <td>Assoc Engineer</td>\n",
       "      <td>162265.41</td>\n",
       "    </tr>\n",
       "    <tr>\n",
       "      <th>39251</th>\n",
       "      <td>Community Health</td>\n",
       "      <td>Microbiologist</td>\n",
       "      <td>132937.87</td>\n",
       "    </tr>\n",
       "    <tr>\n",
       "      <th>35406</th>\n",
       "      <td>Culture &amp; Recreation</td>\n",
       "      <td>Recreation Leader</td>\n",
       "      <td>17110.05</td>\n",
       "    </tr>\n",
       "    <tr>\n",
       "      <th>21888</th>\n",
       "      <td>Public Works, Transportation &amp; Commerce</td>\n",
       "      <td>Stdntdsgn Train2/Arch/Eng/Plng</td>\n",
       "      <td>15703.35</td>\n",
       "    </tr>\n",
       "  </tbody>\n",
       "</table>\n",
       "<p>200 rows × 3 columns</p>\n",
       "</div>"
      ],
      "text/plain": [
       "                            Organization Group  \\\n",
       "25250                         Community Health   \n",
       "41429                         Community Health   \n",
       "22033  Public Works, Transportation & Commerce   \n",
       "19418         General Administration & Finance   \n",
       "12328  Public Works, Transportation & Commerce   \n",
       "...                                        ...   \n",
       "33009                         Community Health   \n",
       "34544  Public Works, Transportation & Commerce   \n",
       "39251                         Community Health   \n",
       "35406                     Culture & Recreation   \n",
       "21888  Public Works, Transportation & Commerce   \n",
       "\n",
       "                                  Job  Total Compensation  \n",
       "25250      Hospital Eligiblity Worker           111966.59  \n",
       "41429              Eligibility Worker           105501.27  \n",
       "22033                Transit Operator            12359.03  \n",
       "19418       Attorney (Civil/Criminal)           157211.73  \n",
       "12328  Stdntdsgntrain1, Arch/Eng/Plng            35525.30  \n",
       "...                               ...                 ...  \n",
       "33009      Medical Records Technician           105685.91  \n",
       "34544                  Assoc Engineer           162265.41  \n",
       "39251                  Microbiologist           132937.87  \n",
       "35406               Recreation Leader            17110.05  \n",
       "21888  Stdntdsgn Train2/Arch/Eng/Plng            15703.35  \n",
       "\n",
       "[200 rows x 3 columns]"
      ]
     },
     "execution_count": 9,
     "metadata": {},
     "output_type": "execute_result"
    }
   ],
   "source": [
    "sample_from_population = sf.sample(200, replace=False)\n",
    "sample_from_population"
   ]
  },
  {
   "cell_type": "code",
   "execution_count": 10,
   "metadata": {},
   "outputs": [
    {
     "data": {
      "text/plain": [
       "(106908.9, 107704.0, 107704.0)"
      ]
     },
     "execution_count": 10,
     "metadata": {},
     "output_type": "execute_result"
    }
   ],
   "source": [
    "percentile_amigos(50, sample_from_population['Total Compensation'])"
   ]
  },
  {
   "cell_type": "code",
   "execution_count": 11,
   "metadata": {},
   "outputs": [
    {
     "data": {
      "text/plain": [
       "<matplotlib.axes._subplots.AxesSubplot at 0x120b034e0>"
      ]
     },
     "execution_count": 11,
     "metadata": {},
     "output_type": "execute_result"
    },
    {
     "data": {
      "image/png": "[encoded data removed]",
      "text/plain": [
       "<Figure size 432x288 with 1 Axes>"
      ]
     },
     "metadata": {},
     "output_type": "display_data"
    }
   ],
   "source": [
    "medians = []\n",
    "repetitions = np.arange(100)\n",
    "for i in repetitions:\n",
    "    sample = sf.sample(200, replace=False)\n",
    "    median = np.median(sample['Total Compensation'])\n",
    "    medians.append(median)\n",
    "    \n",
    "pd.DataFrame({'trial': repetitions, 'median': medians}).plot.scatter('trial', 'median')"
   ]
  },
  {
   "cell_type": "code",
   "execution_count": 12,
   "metadata": {},
   "outputs": [
    {
     "data": {
      "text/plain": [
       "<matplotlib.axes._subplots.AxesSubplot at 0x120b0f4e0>"
      ]
     },
     "execution_count": 12,
     "metadata": {},
     "output_type": "execute_result"
    },
    {
     "data": {
      "image/png": "[encoded data removed]",
      "text/plain": [
       "<Figure size 432x288 with 1 Axes>"
      ]
     },
     "metadata": {},
     "output_type": "display_data"
    }
   ],
   "source": [
    "pd.Series(medians).hist(ec=\"w\")"
   ]
  },
  {
   "cell_type": "code",
   "execution_count": 13,
   "metadata": {},
   "outputs": [
    {
     "data": {
      "text/html": [
       "<div>\n",
       "<style scoped>\n",
       "    .dataframe tbody tr th:only-of-type {\n",
       "        vertical-align: middle;\n",
       "    }\n",
       "\n",
       "    .dataframe tbody tr th {\n",
       "        vertical-align: top;\n",
       "    }\n",
       "\n",
       "    .dataframe thead th {\n",
       "        text-align: right;\n",
       "    }\n",
       "</style>\n",
       "<table border=\"1\" class=\"dataframe\">\n",
       "  <thead>\n",
       "    <tr style=\"text-align: right;\">\n",
       "      <th></th>\n",
       "      <th>Organization Group</th>\n",
       "      <th>Job</th>\n",
       "      <th>Total Compensation</th>\n",
       "    </tr>\n",
       "  </thead>\n",
       "  <tbody>\n",
       "    <tr>\n",
       "      <th>6419</th>\n",
       "      <td>Community Health</td>\n",
       "      <td>Special Nurse</td>\n",
       "      <td>50109.75</td>\n",
       "    </tr>\n",
       "    <tr>\n",
       "      <th>16660</th>\n",
       "      <td>Community Health</td>\n",
       "      <td>Registered Nurse</td>\n",
       "      <td>198921.08</td>\n",
       "    </tr>\n",
       "    <tr>\n",
       "      <th>14433</th>\n",
       "      <td>Human Welfare &amp; Neighborhood Development</td>\n",
       "      <td>Public Service Trainee</td>\n",
       "      <td>18021.42</td>\n",
       "    </tr>\n",
       "  </tbody>\n",
       "</table>\n",
       "</div>"
      ],
      "text/plain": [
       "                             Organization Group                     Job  \\\n",
       "6419                           Community Health           Special Nurse   \n",
       "16660                          Community Health        Registered Nurse   \n",
       "14433  Human Welfare & Neighborhood Development  Public Service Trainee   \n",
       "\n",
       "       Total Compensation  \n",
       "6419             50109.75  \n",
       "16660           198921.08  \n",
       "14433            18021.42  "
      ]
     },
     "execution_count": 13,
     "metadata": {},
     "output_type": "execute_result"
    }
   ],
   "source": [
    "sample_from_population = sf.sample(200, replace=False)\n",
    "sample_from_population[:3]"
   ]
  },
  {
   "cell_type": "code",
   "execution_count": 14,
   "metadata": {},
   "outputs": [
    {
     "data": {
      "text/plain": [
       "107684.13"
      ]
     },
     "execution_count": 14,
     "metadata": {},
     "output_type": "execute_result"
    }
   ],
   "source": [
    "np.median(sample_from_population['Total Compensation'])"
   ]
  },
  {
   "cell_type": "code",
   "execution_count": 15,
   "metadata": {},
   "outputs": [],
   "source": [
    "resample = sample_from_population.sample?"
   ]
  },
  {
   "cell_type": "code",
   "execution_count": null,
   "metadata": {},
   "outputs": [],
   "source": [
    "resample = sample_from_population.sample"
   ]
  },
  {
   "cell_type": "code",
   "execution_count": 16,
   "metadata": {},
   "outputs": [
    {
     "data": {
      "text/html": [
       "<div>\n",
       "<style scoped>\n",
       "    .dataframe tbody tr th:only-of-type {\n",
       "        vertical-align: middle;\n",
       "    }\n",
       "\n",
       "    .dataframe tbody tr th {\n",
       "        vertical-align: top;\n",
       "    }\n",
       "\n",
       "    .dataframe thead th {\n",
       "        text-align: right;\n",
       "    }\n",
       "</style>\n",
       "<table border=\"1\" class=\"dataframe\">\n",
       "  <thead>\n",
       "    <tr style=\"text-align: right;\">\n",
       "      <th></th>\n",
       "      <th>Organization Group</th>\n",
       "      <th>Job</th>\n",
       "      <th>Total Compensation</th>\n",
       "    </tr>\n",
       "  </thead>\n",
       "  <tbody>\n",
       "    <tr>\n",
       "      <th>17510</th>\n",
       "      <td>Human Welfare &amp; Neighborhood Development</td>\n",
       "      <td>Contract Compliance Officer 1</td>\n",
       "      <td>142903.21</td>\n",
       "    </tr>\n",
       "    <tr>\n",
       "      <th>40366</th>\n",
       "      <td>Public Works, Transportation &amp; Commerce</td>\n",
       "      <td>Administrative Analyst</td>\n",
       "      <td>59320.45</td>\n",
       "    </tr>\n",
       "    <tr>\n",
       "      <th>36049</th>\n",
       "      <td>Public Protection</td>\n",
       "      <td>Counselor, Juvenile Hall SFERS</td>\n",
       "      <td>105525.39</td>\n",
       "    </tr>\n",
       "    <tr>\n",
       "      <th>25516</th>\n",
       "      <td>General Administration &amp; Finance</td>\n",
       "      <td>Worker's Compensation Adjuster</td>\n",
       "      <td>108060.01</td>\n",
       "    </tr>\n",
       "    <tr>\n",
       "      <th>10179</th>\n",
       "      <td>Public Works, Transportation &amp; Commerce</td>\n",
       "      <td>Electronic Maintenance Tech</td>\n",
       "      <td>186665.12</td>\n",
       "    </tr>\n",
       "    <tr>\n",
       "      <th>...</th>\n",
       "      <td>...</td>\n",
       "      <td>...</td>\n",
       "      <td>...</td>\n",
       "    </tr>\n",
       "    <tr>\n",
       "      <th>28566</th>\n",
       "      <td>General Administration &amp; Finance</td>\n",
       "      <td>Sr Community Devl Spc 1</td>\n",
       "      <td>136670.79</td>\n",
       "    </tr>\n",
       "    <tr>\n",
       "      <th>31050</th>\n",
       "      <td>Human Welfare &amp; Neighborhood Development</td>\n",
       "      <td>Account Clerk</td>\n",
       "      <td>76295.72</td>\n",
       "    </tr>\n",
       "    <tr>\n",
       "      <th>30848</th>\n",
       "      <td>Public Works, Transportation &amp; Commerce</td>\n",
       "      <td>Electrl Trnst Mech, Asst Sprv</td>\n",
       "      <td>148739.86</td>\n",
       "    </tr>\n",
       "    <tr>\n",
       "      <th>30878</th>\n",
       "      <td>General Administration &amp; Finance</td>\n",
       "      <td>Custodian</td>\n",
       "      <td>85858.80</td>\n",
       "    </tr>\n",
       "    <tr>\n",
       "      <th>36049</th>\n",
       "      <td>Public Protection</td>\n",
       "      <td>Counselor, Juvenile Hall SFERS</td>\n",
       "      <td>105525.39</td>\n",
       "    </tr>\n",
       "  </tbody>\n",
       "</table>\n",
       "<p>200 rows × 3 columns</p>\n",
       "</div>"
      ],
      "text/plain": [
       "                             Organization Group  \\\n",
       "17510  Human Welfare & Neighborhood Development   \n",
       "40366   Public Works, Transportation & Commerce   \n",
       "36049                         Public Protection   \n",
       "25516          General Administration & Finance   \n",
       "10179   Public Works, Transportation & Commerce   \n",
       "...                                         ...   \n",
       "28566          General Administration & Finance   \n",
       "31050  Human Welfare & Neighborhood Development   \n",
       "30848   Public Works, Transportation & Commerce   \n",
       "30878          General Administration & Finance   \n",
       "36049                         Public Protection   \n",
       "\n",
       "                                  Job  Total Compensation  \n",
       "17510   Contract Compliance Officer 1           142903.21  \n",
       "40366          Administrative Analyst            59320.45  \n",
       "36049  Counselor, Juvenile Hall SFERS           105525.39  \n",
       "25516  Worker's Compensation Adjuster           108060.01  \n",
       "10179     Electronic Maintenance Tech           186665.12  \n",
       "...                               ...                 ...  \n",
       "28566         Sr Community Devl Spc 1           136670.79  \n",
       "31050                   Account Clerk            76295.72  \n",
       "30848   Electrl Trnst Mech, Asst Sprv           148739.86  \n",
       "30878                       Custodian            85858.80  \n",
       "36049  Counselor, Juvenile Hall SFERS           105525.39  \n",
       "\n",
       "[200 rows x 3 columns]"
      ]
     },
     "execution_count": 16,
     "metadata": {},
     "output_type": "execute_result"
    }
   ],
   "source": [
    "resample = sample_from_population.sample(frac=1, replace=True)\n",
    "resample"
   ]
  },
  {
   "cell_type": "code",
   "execution_count": 17,
   "metadata": {},
   "outputs": [
    {
     "data": {
      "text/plain": [
       "108060.01"
      ]
     },
     "execution_count": 17,
     "metadata": {},
     "output_type": "execute_result"
    }
   ],
   "source": [
    "np.median(resample['Total Compensation'])"
   ]
  },
  {
   "cell_type": "code",
   "execution_count": 18,
   "metadata": {},
   "outputs": [
    {
     "data": {
      "text/plain": [
       "<matplotlib.axes._subplots.AxesSubplot at 0x120cc1e80>"
      ]
     },
     "execution_count": 18,
     "metadata": {},
     "output_type": "execute_result"
    },
    {
     "data": {
      "image/png": "[encoded data removed]",
      "text/plain": [
       "<Figure size 432x288 with 1 Axes>"
      ]
     },
     "metadata": {},
     "output_type": "display_data"
    }
   ],
   "source": [
    "medians = []\n",
    "\n",
    "for i in np.arange(1000):\n",
    "    resample = sample_from_population.sample(frac=1, replace=True)\n",
    "    median = np.median(resample['Total Compensation'])\n",
    "    medians.append(median)\n",
    "    \n",
    "pd.Series(medians).hist(ec='w')"
   ]
  },
  {
   "cell_type": "code",
   "execution_count": 19,
   "metadata": {},
   "outputs": [
    {
     "data": {
      "text/plain": [
       "(96101.215, 107684.13, 96101.215)"
      ]
     },
     "execution_count": 19,
     "metadata": {},
     "output_type": "execute_result"
    }
   ],
   "source": [
    "percentile_amigos(2.5, medians)"
   ]
  },
  {
   "cell_type": "code",
   "execution_count": 20,
   "metadata": {},
   "outputs": [
    {
     "data": {
      "text/plain": [
       "(118594.195, 107684.13, 118595.9915)"
      ]
     },
     "execution_count": 20,
     "metadata": {},
     "output_type": "execute_result"
    }
   ],
   "source": [
    "percentile_amigos(97.5, medians)"
   ]
  },
  {
   "cell_type": "code",
   "execution_count": 21,
   "metadata": {},
   "outputs": [],
   "source": [
    "percentile_2_5 = []\n",
    "percentile_97_5 = []\n",
    "\n",
    "for j in np.arange(100):\n",
    "    sample_from_population = sf.sample(200, replace=False)\n",
    "    medians = []\n",
    "    for i in np.arange(1000):\n",
    "        resample = sample_from_population.sample(frac=1, replace=True)\n",
    "        median = np.median(resample['Total Compensation'])\n",
    "        medians.append(median)\n",
    "        \n",
    "    percentile_2_5.append(percentile(2.5, medians))\n",
    "    percentile_97_5.append(percentile(97.5, medians))\n",
    "    "
   ]
  },
  {
   "cell_type": "code",
   "execution_count": 22,
   "metadata": {},
   "outputs": [
    {
     "data": {
      "text/plain": [
       "96"
      ]
     },
     "execution_count": 22,
     "metadata": {},
     "output_type": "execute_result"
    }
   ],
   "source": [
    "truth = np.median(sf['Total Compensation'])\n",
    "intervals = pd.DataFrame({\"Lower\": percentile_2_5, \"Upper\": percentile_97_5})\n",
    "correct = intervals[(intervals['Lower'] < truth) & (intervals['Upper'] > truth)]\n",
    "len(correct)"
   ]
  },
  {
   "cell_type": "code",
   "execution_count": 23,
   "metadata": {},
   "outputs": [
    {
     "data": {
      "text/html": [
       "<div>\n",
       "<style scoped>\n",
       "    .dataframe tbody tr th:only-of-type {\n",
       "        vertical-align: middle;\n",
       "    }\n",
       "\n",
       "    .dataframe tbody tr th {\n",
       "        vertical-align: top;\n",
       "    }\n",
       "\n",
       "    .dataframe thead th {\n",
       "        text-align: right;\n",
       "    }\n",
       "</style>\n",
       "<table border=\"1\" class=\"dataframe\">\n",
       "  <thead>\n",
       "    <tr style=\"text-align: right;\">\n",
       "      <th></th>\n",
       "      <th>Lower</th>\n",
       "      <th>Upper</th>\n",
       "    </tr>\n",
       "  </thead>\n",
       "  <tbody>\n",
       "    <tr>\n",
       "      <th>32</th>\n",
       "      <td>107392.280</td>\n",
       "      <td>131269.615</td>\n",
       "    </tr>\n",
       "    <tr>\n",
       "      <th>61</th>\n",
       "      <td>108159.765</td>\n",
       "      <td>121733.770</td>\n",
       "    </tr>\n",
       "  </tbody>\n",
       "</table>\n",
       "</div>"
      ],
      "text/plain": [
       "         Lower       Upper\n",
       "32  107392.280  131269.615\n",
       "61  108159.765  121733.770"
      ]
     },
     "execution_count": 23,
     "metadata": {},
     "output_type": "execute_result"
    }
   ],
   "source": [
    "intervals[intervals['Lower']>truth]"
   ]
  },
  {
   "cell_type": "code",
   "execution_count": 24,
   "metadata": {},
   "outputs": [
    {
     "data": {
      "text/html": [
       "<div>\n",
       "<style scoped>\n",
       "    .dataframe tbody tr th:only-of-type {\n",
       "        vertical-align: middle;\n",
       "    }\n",
       "\n",
       "    .dataframe tbody tr th {\n",
       "        vertical-align: top;\n",
       "    }\n",
       "\n",
       "    .dataframe thead th {\n",
       "        text-align: right;\n",
       "    }\n",
       "</style>\n",
       "<table border=\"1\" class=\"dataframe\">\n",
       "  <thead>\n",
       "    <tr style=\"text-align: right;\">\n",
       "      <th></th>\n",
       "      <th>Lower</th>\n",
       "      <th>Upper</th>\n",
       "    </tr>\n",
       "  </thead>\n",
       "  <tbody>\n",
       "    <tr>\n",
       "      <th>18</th>\n",
       "      <td>87236.810</td>\n",
       "      <td>103898.455</td>\n",
       "    </tr>\n",
       "    <tr>\n",
       "      <th>85</th>\n",
       "      <td>91575.805</td>\n",
       "      <td>103900.905</td>\n",
       "    </tr>\n",
       "  </tbody>\n",
       "</table>\n",
       "</div>"
      ],
      "text/plain": [
       "        Lower       Upper\n",
       "18  87236.810  103898.455\n",
       "85  91575.805  103900.905"
      ]
     },
     "execution_count": 24,
     "metadata": {},
     "output_type": "execute_result"
    }
   ],
   "source": [
    "intervals[intervals['Upper']<truth]"
   ]
  }
 ],
 "metadata": {
  "kernelspec": {
   "display_name": "Python 3",
   "language": "python",
   "name": "python3"
  },
  "language_info": {
   "codemirror_mode": {
    "name": "ipython",
    "version": 3
   },
   "file_extension": ".py",
   "mimetype": "text/x-python",
   "name": "python",
   "nbconvert_exporter": "python",
   "pygments_lexer": "ipython3",
   "version": "3.7.0"
  }
 },
 "nbformat": 4,
 "nbformat_minor": 2
}
