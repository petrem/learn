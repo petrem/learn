{
 "cells": [
  {
   "cell_type": "code",
   "execution_count": 2,
   "metadata": {},
   "outputs": [],
   "source": [
    "from functools import partial, reduce\n",
    "from itertools import *\n",
    "import operator\n",
    "\n",
    "from datascience import *\n",
    "import numpy as np\n",
    "import pandas as pd\n",
    "import matplotlib.pyplot as plt\n",
    "\n",
    "%matplotlib inline\n",
    "plt.style.use('fivethirtyeight')\n",
    "\n",
    "pd.set_option(\"display.max_rows\", 20)"
   ]
  },
  {
   "cell_type": "markdown",
   "metadata": {},
   "source": [
    "# definitions\n",
    "\n",
    "term |  definition\n",
    ":--- | :---------\n",
    "experiment | a situation involving chance\n",
    "trial | ??\n",
    "outcome | a result of a single trial\n",
    "outcomes | all the possible results of the experiment\n",
    "event | one (or more?) outcomes actually occurring\n",
    "compound event | an event consisting on two or more events (multiple trials?)\n",
    "probability (of an event) | likelihood of an event occurring\n",
    "sample space | set of all possible outcomes of that experiment\n",
    "mutually exclusive events | they cannot occur at the same time (no outcomes in common)\n",
    "independent events | A and B are independent of occurance of A does not influence probability of B occuring\n",
    "conditional probability | the probability that event B occurs given that event A has already occurred: $$p(B|A)$$"
   ]
  },
  {
   "cell_type": "markdown",
   "metadata": {},
   "source": [
    "$$(1) P(A) = \\frac {\\text{number of ways event A can occur}}{\\text{total number of possible outcomes}}$$\n",
    "\n",
    "$$(2) \\sum_{A \\in S} P(A) = 1, \\quad \\text{S is the sample space}$$\n",
    "\n",
    "$$(3) P(\\bar{A}) = 1 - P(A)$$\n",
    "\n",
    "$$(4) P(A \\lor B) = P(A) + P(B), \\quad A \\cap B = \\emptyset \\quad \\text{(exclusive events)}$$\n",
    "\n",
    "$$(5) P(A \\lor B) = P(A) + P(B) - P(A \\land B), \\quad A \\cap B \\neq \\emptyset  \\quad \\text{(non-exclusive events)}$$\n",
    "\n",
    "$$(6) P(A \\land B) = P(A) * P(B), \\quad P(B|A) = P(B|{\\bar A}) \\quad \\text{(independent events)}$$\n",
    "\n",
    "$$(7) P(A \\land B) = P(A) * P(B|A), \\quad P(B|A) \\neq P(B|{\\bar A}) \\quad \\text{(dependent events)}$$\n",
    "\n",
    "$$(8) P(B|A) = \\frac{P(A \\land B)}{P(A)}$$"
   ]
  },
  {
   "cell_type": "markdown",
   "metadata": {},
   "source": [
    "$$A \\not \\Rightarrow B$$"
   ]
  },
  {
   "cell_type": "code",
   "execution_count": null,
   "metadata": {},
   "outputs": [],
   "source": [
    "eligible_population = np.array((0.26, 0.74))"
   ]
  },
  {
   "cell_type": "code",
   "execution_count": null,
   "metadata": {},
   "outputs": [],
   "source": [
    "# ds # sample_proportions(100, eligible_population)\n",
    "np.random.multinomial(100, eligible_population).item(0)"
   ]
  },
  {
   "cell_type": "code",
   "execution_count": null,
   "metadata": {},
   "outputs": [],
   "source": [
    "counts = np.array([])\n",
    "\n",
    "repetitions = 50000\n",
    "for i in np.arange(repetitions):\n",
    "    # ds \n",
    "    #sample_distribution = sample_proportions(100, eligible_population)\n",
    "    #sampled_count = (100 * sample_distribution).item(0)\n",
    "    sampled_count = np.random.multinomial(100, eligible_population).item(0)\n",
    "    counts = np.append(counts, sampled_count)"
   ]
  },
  {
   "cell_type": "code",
   "execution_count": null,
   "metadata": {},
   "outputs": [],
   "source": [
    "counts"
   ]
  },
  {
   "cell_type": "code",
   "execution_count": null,
   "metadata": {},
   "outputs": [],
   "source": [
    "pd.DataFrame({\"Random Sample count\": counts}).hist(\n",
    "    density=True, bins=np.arange(5.5,44.51), ec=\"white\", color=\"xkcd:indigo\")\n",
    "plt.xlabel(\"Random Sample count\")\n",
    "plt.title(\"\")\n",
    "plt.ylabel(\"Percent per Random Sample count\")"
   ]
  },
  {
   "cell_type": "markdown",
   "metadata": {},
   "source": [
    "# more definitions\n",
    "\n",
    "term |  definition\n",
    "--- | ---\n",
    "sample | A set of data collected and/or selected from a statistical population by a defined procedure. The elements of a sample are known as sample points, sampling units or observations\n",
    "statistic | A single measure of some attribute of a sample (e.g. its arithmetic mean value). It is calculated by applying a function (statistical algorithm) to the values of the items of the sample, which are known together as a set of data. The term statistic is used both for the function and for the value of the function on a given sample."
   ]
  },
  {
   "cell_type": "code",
   "execution_count": 14,
   "metadata": {},
   "outputs": [
    {
     "data": {
      "text/plain": [
       "4.509445460085314"
      ]
     },
     "execution_count": 14,
     "metadata": {},
     "output_type": "execute_result"
    }
   ],
   "source": [
    "74 * 100/ 1641"
   ]
  },
  {
   "cell_type": "code",
   "execution_count": 15,
   "metadata": {},
   "outputs": [
    {
     "data": {
      "text/plain": [
       "15.56420233463035"
      ]
     },
     "execution_count": 15,
     "metadata": {},
     "output_type": "execute_result"
    }
   ],
   "source": [
    "40 * 100 / 257"
   ]
  },
  {
   "cell_type": "code",
   "execution_count": 22,
   "metadata": {},
   "outputs": [
    {
     "data": {
      "text/plain": [
       "11.565"
      ]
     },
     "execution_count": 22,
     "metadata": {},
     "output_type": "execute_result"
    }
   ],
   "source": [
    "4.5*257/100"
   ]
  },
  {
   "cell_type": "code",
   "execution_count": 3,
   "metadata": {},
   "outputs": [
    {
     "data": {
      "text/plain": [
       "10"
      ]
     },
     "execution_count": 3,
     "metadata": {},
     "output_type": "execute_result"
    }
   ],
   "source": [
    "deaths_per_shift = np.array([0.045, 1-0.045])\n",
    "np.random.multinomial(257, deaths_per_shift).item(0)"
   ]
  },
  {
   "cell_type": "code",
   "execution_count": 10,
   "metadata": {},
   "outputs": [],
   "source": [
    "deaths = np.array(())\n",
    "for _ in range(10000):\n",
    "    death_in_shift = np.random.multinomial(257, deaths_per_shift).item(0)\n",
    "    deaths = np.append(deaths, death_in_shift)"
   ]
  },
  {
   "cell_type": "code",
   "execution_count": 19,
   "metadata": {},
   "outputs": [
    {
     "data": {
      "text/plain": [
       "Text(0,0.5,'Probability per number of shifts')"
      ]
     },
     "execution_count": 19,
     "metadata": {},
     "output_type": "execute_result"
    },
    {
     "data": {
      "image/png": "[encoded data removed]",
      "text/plain": [
       "<Figure size 432x288 with 1 Axes>"
      ]
     },
     "metadata": {},
     "output_type": "display_data"
    }
   ],
   "source": [
    "pd.DataFrame({\"death counts\": deaths}).hist(density=True, bins=np.arange(0.5, 30.5, 1), ec=\"white\", color=\"xkcd:indigo\")\n",
    "plt.title(\"\")\n",
    "plt.xlabel(\"Number of shifts with at least one death\")\n",
    "plt.ylabel(\"Probability per number of shifts\")"
   ]
  },
  {
   "cell_type": "code",
   "execution_count": null,
   "metadata": {},
   "outputs": [],
   "source": []
  }
 ],
 "metadata": {
  "kernelspec": {
   "display_name": "Python 3",
   "language": "python",
   "name": "python3"
  },
  "language_info": {
   "codemirror_mode": {
    "name": "ipython",
    "version": 3
   },
   "file_extension": ".py",
   "mimetype": "text/x-python",
   "name": "python",
   "nbconvert_exporter": "python",
   "pygments_lexer": "ipython3",
   "version": "3.6.5"
  }
 },
 "nbformat": 4,
 "nbformat_minor": 2
}
