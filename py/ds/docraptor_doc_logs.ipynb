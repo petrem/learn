{
 "cells": [
  {
   "cell_type": "markdown",
   "metadata": {},
   "source": [
    "# Get data"
   ]
  },
  {
   "cell_type": "code",
   "execution_count": 3,
   "metadata": {},
   "outputs": [],
   "source": [
    "import csv\n",
    "from itertools import count\n",
    "import sys\n",
    "\n",
    "import requests\n",
    "from requests.auth import HTTPBasicAuth\n",
    "\n",
    "\n",
    "PER_PAGE = 100\n",
    "USER = \"...\"\n",
    "PASS = \"\"\n",
    "URL = \"https://docraptor.com/doc_logs.json?per_page=1000&page=1000\"\n",
    "\n",
    "\n",
    "DOC_KEYS = [\n",
    "        \"async\",\n",
    "        \"created_at\",\n",
    "        \"document_type\",\n",
    "        \"document_url\",\n",
    "        \"generation_log\",\n",
    "        \"generation_time\",\n",
    "        \"id\",\n",
    "        \"input_size\",\n",
    "        \"ip_address\",\n",
    "        \"javascript\",\n",
    "        \"name\",\n",
    "        \"output_size\",\n",
    "        \"prince_options\",\n",
    "        \"status_id\",\n",
    "        \"strict\",\n",
    "        \"success\",\n",
    "        \"tag\",\n",
    "        \"test\",\n",
    "        \"validation_errors\"\n",
    "]\n",
    "\n",
    "CSV_KEYS = [\n",
    "        \"async\",\n",
    "        \"created_at\",\n",
    "        \"document_type\",\n",
    "        \"document_url\",\n",
    "        \"generation_time\",\n",
    "        \"id\",\n",
    "        \"input_size\",\n",
    "        \"ip_address\",\n",
    "        \"javascript\",\n",
    "        \"name\",\n",
    "        \"output_size\",\n",
    "        \"status_id\",\n",
    "        \"strict\",\n",
    "        \"success\",\n",
    "        \"tag\",\n",
    "        \"test\",\n",
    "        \"validation_errors\"    \n",
    "]\n",
    "\n",
    "\n",
    "def get_a_page_of_documents(page, per_page=PER_PAGE):\n",
    "    r = requests.get(\n",
    "        URL,\n",
    "        params={\"per_page\": per_page, \"page\": page},\n",
    "        headers={\"accept\": \"application/json\"},\n",
    "        auth=HTTPBasicAuth(USER, PASS))\n",
    "    return r.json()\n",
    "\n",
    "\n",
    "def get_all_docs():\n",
    "    page = count(start=1)\n",
    "    while True:\n",
    "        page_data = get_a_page_of_documents(next(page))\n",
    "        if len(page_data) == 0:\n",
    "            return\n",
    "        for doc in page_data:\n",
    "            yield doc\n",
    "\n",
    "\n",
    "def as_csv(filename):\n",
    "    with open(filename, 'wt') as f:\n",
    "        writer = csv.writer(f)\n",
    "        writer.writerow(CSV_KEYS)\n",
    "        for doc in get_all_docs():\n",
    "            writer.writerow([doc[k] for k in CSV_KEYS])"
   ]
  },
  {
   "cell_type": "code",
   "execution_count": 4,
   "metadata": {},
   "outputs": [
    {
     "name": "stdout",
     "output_type": "stream",
     "text": [
      "time: 298.9668490886688\n"
     ]
    }
   ],
   "source": [
    "# downloads document records from docraptor and saves to CSV\n",
    "import time\n",
    "\n",
    "start = time.time()\n",
    "as_csv(\"docraptor_doc_logs.csv\")\n",
    "print(\"time: {}\".format(time.time() - start))"
   ]
  },
  {
   "cell_type": "markdown",
   "metadata": {},
   "source": [
    "# Look at data"
   ]
  },
  {
   "cell_type": "code",
   "execution_count": 5,
   "metadata": {},
   "outputs": [],
   "source": [
    "import pandas as pd\n",
    "import numpy as np\n",
    "import matplotlib.pyplot as plt\n",
    "\n",
    "%matplotlib inline"
   ]
  },
  {
   "cell_type": "code",
   "execution_count": 6,
   "metadata": {},
   "outputs": [
    {
     "name": "stdout",
     "output_type": "stream",
     "text": [
      "4658 records over 28 days 04:08:52\n"
     ]
    },
    {
     "data": {
      "text/html": [
       "<div>\n",
       "<style scoped>\n",
       "    .dataframe tbody tr th:only-of-type {\n",
       "        vertical-align: middle;\n",
       "    }\n",
       "\n",
       "    .dataframe tbody tr th {\n",
       "        vertical-align: top;\n",
       "    }\n",
       "\n",
       "    .dataframe thead th {\n",
       "        text-align: right;\n",
       "    }\n",
       "</style>\n",
       "<table border=\"1\" class=\"dataframe\">\n",
       "  <thead>\n",
       "    <tr style=\"text-align: right;\">\n",
       "      <th></th>\n",
       "      <th>created_at</th>\n",
       "      <th>generation_time</th>\n",
       "      <th>id</th>\n",
       "      <th>input_size</th>\n",
       "      <th>ip_address</th>\n",
       "      <th>output_size</th>\n",
       "      <th>success</th>\n",
       "      <th>test</th>\n",
       "    </tr>\n",
       "  </thead>\n",
       "  <tbody>\n",
       "    <tr>\n",
       "      <th>0</th>\n",
       "      <td>2018-06-22 14:52:17</td>\n",
       "      <td>1.0</td>\n",
       "      <td>67924249</td>\n",
       "      <td>60406</td>\n",
       "      <td>178.128.166.6</td>\n",
       "      <td>65214</td>\n",
       "      <td>True</td>\n",
       "      <td>True</td>\n",
       "    </tr>\n",
       "    <tr>\n",
       "      <th>1</th>\n",
       "      <td>2018-06-22 14:52:04</td>\n",
       "      <td>8.0</td>\n",
       "      <td>67924230</td>\n",
       "      <td>1795356</td>\n",
       "      <td>178.128.166.6</td>\n",
       "      <td>2127156</td>\n",
       "      <td>True</td>\n",
       "      <td>True</td>\n",
       "    </tr>\n",
       "  </tbody>\n",
       "</table>\n",
       "</div>"
      ],
      "text/plain": [
       "           created_at  generation_time        id  input_size     ip_address  \\\n",
       "0 2018-06-22 14:52:17              1.0  67924249       60406  178.128.166.6   \n",
       "1 2018-06-22 14:52:04              8.0  67924230     1795356  178.128.166.6   \n",
       "\n",
       "   output_size  success  test  \n",
       "0        65214     True  True  \n",
       "1      2127156     True  True  "
      ]
     },
     "execution_count": 6,
     "metadata": {},
     "output_type": "execute_result"
    }
   ],
   "source": [
    "\n",
    "# ignoring empty columns like tags, etc; update_at (same as created_at); async, javascript (always True, False)\n",
    "docs = pd.read_csv(\n",
    "    \"docraptor_doc_logs.csv\",\n",
    "    usecols=[\"created_at\", \"generation_time\", \"id\", \"input_size\", \"ip_address\", \"output_size\", \"success\", \"test\"],\n",
    "    parse_dates=[\"created_at\"], infer_datetime_format=True)\n",
    "first = docs[[\"created_at\"]].min()[0]\n",
    "last = docs[[\"created_at\"]].max()[0]\n",
    "print(\"{} records over {}\".format(len(docs), last - first))\n",
    "docs[:2]"
   ]
  },
  {
   "cell_type": "markdown",
   "metadata": {},
   "source": [
    "# Split by 'test' flag"
   ]
  },
  {
   "cell_type": "code",
   "execution_count": 7,
   "metadata": {},
   "outputs": [
    {
     "name": "stdout",
     "output_type": "stream",
     "text": [
      "Test docs: 4645, Production: 13\n"
     ]
    }
   ],
   "source": [
    "test = docs.drop(docs[docs.test == False].index)\n",
    "production = docs.drop(docs[docs.test == True].index)\n",
    "print(\"Test docs: {}, Production: {}\".format(len(test), len(production)))"
   ]
  },
  {
   "cell_type": "markdown",
   "metadata": {},
   "source": [
    "# Top IPs"
   ]
  },
  {
   "cell_type": "code",
   "execution_count": 8,
   "metadata": {},
   "outputs": [],
   "source": [
    "def top_ips(df, top=10):\n",
    "    return df[[\"ip_address\", \"id\"]].groupby(\n",
    "        by=\"ip_address\").count().rename(\n",
    "        columns={\"id\": \"count\"}).sort_values(\"count\", ascending=False)[:top]"
   ]
  },
  {
   "cell_type": "code",
   "execution_count": 9,
   "metadata": {},
   "outputs": [
    {
     "data": {
      "text/html": [
       "<div>\n",
       "<style scoped>\n",
       "    .dataframe tbody tr th:only-of-type {\n",
       "        vertical-align: middle;\n",
       "    }\n",
       "\n",
       "    .dataframe tbody tr th {\n",
       "        vertical-align: top;\n",
       "    }\n",
       "\n",
       "    .dataframe thead th {\n",
       "        text-align: right;\n",
       "    }\n",
       "</style>\n",
       "<table border=\"1\" class=\"dataframe\">\n",
       "  <thead>\n",
       "    <tr style=\"text-align: right;\">\n",
       "      <th></th>\n",
       "      <th>count</th>\n",
       "    </tr>\n",
       "    <tr>\n",
       "      <th>ip_address</th>\n",
       "      <th></th>\n",
       "    </tr>\n",
       "  </thead>\n",
       "  <tbody>\n",
       "    <tr>\n",
       "      <th>206.189.114.122</th>\n",
       "      <td>12</td>\n",
       "    </tr>\n",
       "    <tr>\n",
       "      <th>35.158.216.151</th>\n",
       "      <td>1</td>\n",
       "    </tr>\n",
       "  </tbody>\n",
       "</table>\n",
       "</div>"
      ],
      "text/plain": [
       "                 count\n",
       "ip_address            \n",
       "206.189.114.122     12\n",
       "35.158.216.151       1"
      ]
     },
     "execution_count": 9,
     "metadata": {},
     "output_type": "execute_result"
    }
   ],
   "source": [
    "top_ips(production)"
   ]
  },
  {
   "cell_type": "code",
   "execution_count": 10,
   "metadata": {},
   "outputs": [
    {
     "data": {
      "text/html": [
       "<div>\n",
       "<style scoped>\n",
       "    .dataframe tbody tr th:only-of-type {\n",
       "        vertical-align: middle;\n",
       "    }\n",
       "\n",
       "    .dataframe tbody tr th {\n",
       "        vertical-align: top;\n",
       "    }\n",
       "\n",
       "    .dataframe thead th {\n",
       "        text-align: right;\n",
       "    }\n",
       "</style>\n",
       "<table border=\"1\" class=\"dataframe\">\n",
       "  <thead>\n",
       "    <tr style=\"text-align: right;\">\n",
       "      <th></th>\n",
       "      <th>count</th>\n",
       "    </tr>\n",
       "    <tr>\n",
       "      <th>ip_address</th>\n",
       "      <th></th>\n",
       "    </tr>\n",
       "  </thead>\n",
       "  <tbody>\n",
       "    <tr>\n",
       "      <th>206.189.114.122</th>\n",
       "      <td>1778</td>\n",
       "    </tr>\n",
       "    <tr>\n",
       "      <th>159.65.81.228</th>\n",
       "      <td>1113</td>\n",
       "    </tr>\n",
       "    <tr>\n",
       "      <th>178.128.164.44</th>\n",
       "      <td>958</td>\n",
       "    </tr>\n",
       "    <tr>\n",
       "      <th>193.240.196.130</th>\n",
       "      <td>242</td>\n",
       "    </tr>\n",
       "    <tr>\n",
       "      <th>178.128.166.6</th>\n",
       "      <td>182</td>\n",
       "    </tr>\n",
       "    <tr>\n",
       "      <th>165.227.226.25</th>\n",
       "      <td>129</td>\n",
       "    </tr>\n",
       "    <tr>\n",
       "      <th>46.101.63.151</th>\n",
       "      <td>76</td>\n",
       "    </tr>\n",
       "    <tr>\n",
       "      <th>18.195.187.187</th>\n",
       "      <td>74</td>\n",
       "    </tr>\n",
       "    <tr>\n",
       "      <th>138.68.170.243</th>\n",
       "      <td>51</td>\n",
       "    </tr>\n",
       "    <tr>\n",
       "      <th>52.59.45.98</th>\n",
       "      <td>12</td>\n",
       "    </tr>\n",
       "  </tbody>\n",
       "</table>\n",
       "</div>"
      ],
      "text/plain": [
       "                 count\n",
       "ip_address            \n",
       "206.189.114.122   1778\n",
       "159.65.81.228     1113\n",
       "178.128.164.44     958\n",
       "193.240.196.130    242\n",
       "178.128.166.6      182\n",
       "165.227.226.25     129\n",
       "46.101.63.151       76\n",
       "18.195.187.187      74\n",
       "138.68.170.243      51\n",
       "52.59.45.98         12"
      ]
     },
     "execution_count": 10,
     "metadata": {},
     "output_type": "execute_result"
    }
   ],
   "source": [
    "top_ips(test)"
   ]
  },
  {
   "cell_type": "markdown",
   "metadata": {},
   "source": [
    "## Note\n",
    "\n",
    "Note how most \"production\" documents are still from the same IP where most of the test ones are generated from. This could hint they're still test documents but with the test flag set to false."
   ]
  },
  {
   "cell_type": "markdown",
   "metadata": {},
   "source": [
    "# Time series"
   ]
  },
  {
   "cell_type": "code",
   "execution_count": 11,
   "metadata": {},
   "outputs": [],
   "source": [
    "# freq can be e.g. '5m', \"H'\n",
    "def create_date_range_for(df, freq=\"5m\"):\n",
    "    return pd.date_range(df[[\"created_at\"]].min()[0], df[[\"created_at\"]].max()[0], freq=freq)"
   ]
  },
  {
   "cell_type": "code",
   "execution_count": 12,
   "metadata": {},
   "outputs": [],
   "source": [
    "production_per_half_hour = pd.DataFrame({\"count\": 1}, index=production['created_at']).resample('30Min').count()\n",
    "count = production_per_half_hour['count']"
   ]
  },
  {
   "cell_type": "code",
   "execution_count": 13,
   "metadata": {},
   "outputs": [
    {
     "data": {
      "text/plain": [
       "274"
      ]
     },
     "execution_count": 13,
     "metadata": {},
     "output_type": "execute_result"
    }
   ],
   "source": [
    "len(count) "
   ]
  },
  {
   "cell_type": "code",
   "execution_count": 17,
   "metadata": {},
   "outputs": [
    {
     "data": {
      "text/plain": [
       "<matplotlib.axes._subplots.AxesSubplot at 0x10f46ff60>"
      ]
     },
     "execution_count": 17,
     "metadata": {},
     "output_type": "execute_result"
    },
    {
     "data": {
      "image/png": "[encoded data removed]",
      "text/plain": [
       "<Figure size 1152x288 with 1 Axes>"
      ]
     },
     "metadata": {},
     "output_type": "display_data"
    }
   ],
   "source": [
    "count[count > 1].plot.bar(figsize=(16,4))"
   ]
  },
  {
   "cell_type": "code",
   "execution_count": null,
   "metadata": {},
   "outputs": [],
   "source": []
  }
 ],
 "metadata": {
  "kernelspec": {
   "display_name": "Python 3",
   "language": "python",
   "name": "python3"
  },
  "language_info": {
   "codemirror_mode": {
    "name": "ipython",
    "version": 3
   },
   "file_extension": ".py",
   "mimetype": "text/x-python",
   "name": "python",
   "nbconvert_exporter": "python",
   "pygments_lexer": "ipython3",
   "version": "3.6.5"
  }
 },
 "nbformat": 4,
 "nbformat_minor": 2
}
