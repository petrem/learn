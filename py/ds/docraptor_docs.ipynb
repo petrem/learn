{
 "cells": [
  {
   "cell_type": "markdown",
   "metadata": {},
   "source": [
    "# Get data"
   ]
  },
  {
   "cell_type": "code",
   "execution_count": 66,
   "metadata": {},
   "outputs": [],
   "source": [
    "import csv\n",
    "from itertools import count\n",
    "import sys\n",
    "\n",
    "import requests\n",
    "from requests.auth import HTTPBasicAuth\n",
    "\n",
    "\n",
    "PER_PAGE = 500\n",
    "USER = \"!!!CENSORED!!!\"\n",
    "PASS = \"\"\n",
    "URL = \"https://docraptor.com/docs.json?per_page=1000&page=1000\"\n",
    "\n",
    "\n",
    "DOC_KEYS = [\n",
    "    \"async\",\n",
    "    \"created_at\",\n",
    "    \"document_type\",\n",
    "    \"domain_id\",\n",
    "    \"id\",\n",
    "    \"ip_address\",\n",
    "    \"javascript\",\n",
    "    \"name\",\n",
    "    \"tag\",\n",
    "    \"test\",\n",
    "    \"updated_at\",\n",
    "    \"user_id\"]\n",
    "\n",
    "\n",
    "def get_a_page_of_documents(page, per_page=PER_PAGE):\n",
    "    r = requests.get(\n",
    "        URL,\n",
    "        params={\"per_page\": per_page, \"page\": page},\n",
    "        headers={\"accept\": \"application/json\"},\n",
    "        auth=HTTPBasicAuth(USER, PASS))\n",
    "    return r.json()\n",
    "\n",
    "\n",
    "def get_all_docs():\n",
    "    page = count(start=1)\n",
    "    while True:\n",
    "        page_data = get_a_page_of_documents(next(page))\n",
    "        if len(page_data) == 0:\n",
    "            return\n",
    "        for doc in page_data:\n",
    "            yield doc\n",
    "\n",
    "\n",
    "def as_csv(filename):\n",
    "    with open(filename, 'wt') as f:\n",
    "        writer = csv.writer(f)\n",
    "        writer.writerow(CSV_KEYS)\n",
    "        for doc in get_all_docs():\n",
    "            writer.writerow([doc[k] for k in CSV_KEYS])"
   ]
  },
  {
   "cell_type": "code",
   "execution_count": 67,
   "metadata": {},
   "outputs": [
    {
     "name": "stdout",
     "output_type": "stream",
     "text": [
      "time: 275.25133895874023\n"
     ]
    }
   ],
   "source": [
    "# downloads document records from docraptor and saves to CSV\n",
    "import time\n",
    "\n",
    "start = time.time()\n",
    "as_csv(\"docraptor_docs.csv\")\n",
    "print(\"time: {}\".format(time.time() - start))"
   ]
  },
  {
   "cell_type": "markdown",
   "metadata": {},
   "source": [
    "# Look at data"
   ]
  },
  {
   "cell_type": "code",
   "execution_count": 18,
   "metadata": {},
   "outputs": [],
   "source": [
    "import pandas as pd\n",
    "import numpy as np\n",
    "import matplotlib.pyplot as plt\n",
    "\n",
    "%matplotlib inline"
   ]
  },
  {
   "cell_type": "code",
   "execution_count": 83,
   "metadata": {},
   "outputs": [
    {
     "name": "stdout",
     "output_type": "stream",
     "text": [
      "155269 records over 725 days 04:08:52\n"
     ]
    },
    {
     "data": {
      "text/html": [
       "<div>\n",
       "<style scoped>\n",
       "    .dataframe tbody tr th:only-of-type {\n",
       "        vertical-align: middle;\n",
       "    }\n",
       "\n",
       "    .dataframe tbody tr th {\n",
       "        vertical-align: top;\n",
       "    }\n",
       "\n",
       "    .dataframe thead th {\n",
       "        text-align: right;\n",
       "    }\n",
       "</style>\n",
       "<table border=\"1\" class=\"dataframe\">\n",
       "  <thead>\n",
       "    <tr style=\"text-align: right;\">\n",
       "      <th></th>\n",
       "      <th>created_at</th>\n",
       "      <th>id</th>\n",
       "      <th>ip_address</th>\n",
       "      <th>test</th>\n",
       "    </tr>\n",
       "  </thead>\n",
       "  <tbody>\n",
       "    <tr>\n",
       "      <th>0</th>\n",
       "      <td>2018-06-22 14:52:18</td>\n",
       "      <td>66293362</td>\n",
       "      <td>178.128.166.6</td>\n",
       "      <td>True</td>\n",
       "    </tr>\n",
       "    <tr>\n",
       "      <th>1</th>\n",
       "      <td>2018-06-22 14:52:13</td>\n",
       "      <td>66293354</td>\n",
       "      <td>178.128.166.6</td>\n",
       "      <td>True</td>\n",
       "    </tr>\n",
       "  </tbody>\n",
       "</table>\n",
       "</div>"
      ],
      "text/plain": [
       "           created_at        id     ip_address  test\n",
       "0 2018-06-22 14:52:18  66293362  178.128.166.6  True\n",
       "1 2018-06-22 14:52:13  66293354  178.128.166.6  True"
      ]
     },
     "execution_count": 83,
     "metadata": {},
     "output_type": "execute_result"
    }
   ],
   "source": [
    "\n",
    "# ignoring empty columns like tags, etc; update_at (same as created_at); async, javascript (always True, False)\n",
    "docs = pd.read_csv(\n",
    "    \"docraptor_docs.csv\",\n",
    "    usecols=[\"created_at\", \"id\", \"ip_address\", \"test\"],\n",
    "    parse_dates=[\"created_at\"], infer_datetime_format=True)\n",
    "first = docs[[\"created_at\"]].min()[0]\n",
    "last = docs[[\"created_at\"]].max()[0]\n",
    "print(\"{} records over {}\".format(len(docs), last - first))\n",
    "docs[:2]"
   ]
  },
  {
   "cell_type": "markdown",
   "metadata": {},
   "source": [
    "# Split by 'test' flag"
   ]
  },
  {
   "cell_type": "code",
   "execution_count": 84,
   "metadata": {},
   "outputs": [
    {
     "name": "stdout",
     "output_type": "stream",
     "text": [
      "Test docs: 152868, Production: 2401\n"
     ]
    }
   ],
   "source": [
    "test = docs.drop(docs[docs.test == False].index)\n",
    "production = docs.drop(docs[docs.test == True].index)\n",
    "print(\"Test docs: {}, Production: {}\".format(len(test), len(production)))"
   ]
  },
  {
   "cell_type": "markdown",
   "metadata": {},
   "source": [
    "# Top IPs"
   ]
  },
  {
   "cell_type": "code",
   "execution_count": 6,
   "metadata": {},
   "outputs": [],
   "source": [
    "def top_ips(df, top=10):\n",
    "    return df[[\"ip_address\", \"id\"]].groupby(\n",
    "        by=\"ip_address\").count().rename(\n",
    "        columns={\"id\": \"count\"}).sort_values(\"count\", ascending=False)[:top]"
   ]
  },
  {
   "cell_type": "code",
   "execution_count": 7,
   "metadata": {},
   "outputs": [
    {
     "data": {
      "text/html": [
       "<div>\n",
       "<style scoped>\n",
       "    .dataframe tbody tr th:only-of-type {\n",
       "        vertical-align: middle;\n",
       "    }\n",
       "\n",
       "    .dataframe tbody tr th {\n",
       "        vertical-align: top;\n",
       "    }\n",
       "\n",
       "    .dataframe thead th {\n",
       "        text-align: right;\n",
       "    }\n",
       "</style>\n",
       "<table border=\"1\" class=\"dataframe\">\n",
       "  <thead>\n",
       "    <tr style=\"text-align: right;\">\n",
       "      <th></th>\n",
       "      <th>count</th>\n",
       "    </tr>\n",
       "    <tr>\n",
       "      <th>ip_address</th>\n",
       "      <th></th>\n",
       "    </tr>\n",
       "  </thead>\n",
       "  <tbody>\n",
       "    <tr>\n",
       "      <th>138.68.184.166</th>\n",
       "      <td>1772</td>\n",
       "    </tr>\n",
       "    <tr>\n",
       "      <th>35.158.216.151</th>\n",
       "      <td>136</td>\n",
       "    </tr>\n",
       "    <tr>\n",
       "      <th>193.240.196.130</th>\n",
       "      <td>97</td>\n",
       "    </tr>\n",
       "    <tr>\n",
       "      <th>46.101.5.181</th>\n",
       "      <td>97</td>\n",
       "    </tr>\n",
       "    <tr>\n",
       "      <th>89.35.221.4</th>\n",
       "      <td>79</td>\n",
       "    </tr>\n",
       "    <tr>\n",
       "      <th>46.101.58.201</th>\n",
       "      <td>76</td>\n",
       "    </tr>\n",
       "    <tr>\n",
       "      <th>52.90.70.101</th>\n",
       "      <td>64</td>\n",
       "    </tr>\n",
       "    <tr>\n",
       "      <th>178.62.107.172</th>\n",
       "      <td>37</td>\n",
       "    </tr>\n",
       "    <tr>\n",
       "      <th>206.189.114.122</th>\n",
       "      <td>12</td>\n",
       "    </tr>\n",
       "    <tr>\n",
       "      <th>18.194.237.63</th>\n",
       "      <td>10</td>\n",
       "    </tr>\n",
       "  </tbody>\n",
       "</table>\n",
       "</div>"
      ],
      "text/plain": [
       "                 count\n",
       "ip_address            \n",
       "138.68.184.166    1772\n",
       "35.158.216.151     136\n",
       "193.240.196.130     97\n",
       "46.101.5.181        97\n",
       "89.35.221.4         79\n",
       "46.101.58.201       76\n",
       "52.90.70.101        64\n",
       "178.62.107.172      37\n",
       "206.189.114.122     12\n",
       "18.194.237.63       10"
      ]
     },
     "execution_count": 7,
     "metadata": {},
     "output_type": "execute_result"
    }
   ],
   "source": [
    "top_ips(production)"
   ]
  },
  {
   "cell_type": "code",
   "execution_count": 8,
   "metadata": {},
   "outputs": [
    {
     "data": {
      "text/html": [
       "<div>\n",
       "<style scoped>\n",
       "    .dataframe tbody tr th:only-of-type {\n",
       "        vertical-align: middle;\n",
       "    }\n",
       "\n",
       "    .dataframe tbody tr th {\n",
       "        vertical-align: top;\n",
       "    }\n",
       "\n",
       "    .dataframe thead th {\n",
       "        text-align: right;\n",
       "    }\n",
       "</style>\n",
       "<table border=\"1\" class=\"dataframe\">\n",
       "  <thead>\n",
       "    <tr style=\"text-align: right;\">\n",
       "      <th></th>\n",
       "      <th>count</th>\n",
       "    </tr>\n",
       "    <tr>\n",
       "      <th>ip_address</th>\n",
       "      <th></th>\n",
       "    </tr>\n",
       "  </thead>\n",
       "  <tbody>\n",
       "    <tr>\n",
       "      <th>138.68.184.166</th>\n",
       "      <td>14479</td>\n",
       "    </tr>\n",
       "    <tr>\n",
       "      <th>138.68.188.134</th>\n",
       "      <td>4134</td>\n",
       "    </tr>\n",
       "    <tr>\n",
       "      <th>46.101.92.238</th>\n",
       "      <td>3972</td>\n",
       "    </tr>\n",
       "    <tr>\n",
       "      <th>46.101.74.235</th>\n",
       "      <td>3804</td>\n",
       "    </tr>\n",
       "    <tr>\n",
       "      <th>46.101.5.181</th>\n",
       "      <td>3444</td>\n",
       "    </tr>\n",
       "    <tr>\n",
       "      <th>188.166.171.211</th>\n",
       "      <td>3428</td>\n",
       "    </tr>\n",
       "    <tr>\n",
       "      <th>89.35.221.4</th>\n",
       "      <td>3243</td>\n",
       "    </tr>\n",
       "    <tr>\n",
       "      <th>188.166.170.47</th>\n",
       "      <td>3088</td>\n",
       "    </tr>\n",
       "    <tr>\n",
       "      <th>138.68.191.148</th>\n",
       "      <td>2475</td>\n",
       "    </tr>\n",
       "    <tr>\n",
       "      <th>46.101.43.158</th>\n",
       "      <td>2204</td>\n",
       "    </tr>\n",
       "  </tbody>\n",
       "</table>\n",
       "</div>"
      ],
      "text/plain": [
       "                 count\n",
       "ip_address            \n",
       "138.68.184.166   14479\n",
       "138.68.188.134    4134\n",
       "46.101.92.238     3972\n",
       "46.101.74.235     3804\n",
       "46.101.5.181      3444\n",
       "188.166.171.211   3428\n",
       "89.35.221.4       3243\n",
       "188.166.170.47    3088\n",
       "138.68.191.148    2475\n",
       "46.101.43.158     2204"
      ]
     },
     "execution_count": 8,
     "metadata": {},
     "output_type": "execute_result"
    }
   ],
   "source": [
    "top_ips(test)"
   ]
  },
  {
   "cell_type": "markdown",
   "metadata": {},
   "source": [
    "## Note\n",
    "\n",
    "Note how most \"production\" documents are still from the same IP where most of the test ones are generated from. This could hint they're still test documents but with the test flag set to false."
   ]
  },
  {
   "cell_type": "markdown",
   "metadata": {},
   "source": [
    "# Time series"
   ]
  },
  {
   "cell_type": "code",
   "execution_count": null,
   "metadata": {},
   "outputs": [],
   "source": [
    "# freq can be e.g. '5m', \"H'\n",
    "def create_date_range_for(df, freq=\"5m\"):\n",
    "    return pd.date_range(df[[\"created_at\"]].min()[0], df[[\"created_at\"]].max()[0], freq=freq)"
   ]
  },
  {
   "cell_type": "code",
   "execution_count": 56,
   "metadata": {},
   "outputs": [],
   "source": [
    "production_per_half_hour = pd.DataFrame({\"count\": 1}, index=production['created_at']).resample('30Min').count()\n",
    "count = production_per_half_hour['count']"
   ]
  },
  {
   "cell_type": "code",
   "execution_count": 57,
   "metadata": {},
   "outputs": [
    {
     "data": {
      "text/plain": [
       "34565"
      ]
     },
     "execution_count": 57,
     "metadata": {},
     "output_type": "execute_result"
    }
   ],
   "source": [
    "len(count) "
   ]
  },
  {
   "cell_type": "code",
   "execution_count": 65,
   "metadata": {},
   "outputs": [
    {
     "data": {
      "text/plain": [
       "<matplotlib.axes._subplots.AxesSubplot at 0x111d2b748>"
      ]
     },
     "execution_count": 65,
     "metadata": {},
     "output_type": "execute_result"
    },
    {
     "data": {
      "image/png": "[encoded data removed]",
      "text/plain": [
       "<Figure size 1152x288 with 1 Axes>"
      ]
     },
     "metadata": {},
     "output_type": "display_data"
    }
   ],
   "source": [
    "count[count > 10].plot.bar(figsize=(16,4))"
   ]
  },
  {
   "cell_type": "code",
   "execution_count": 61,
   "metadata": {},
   "outputs": [],
   "source": [
    "production1 = production[production.ip_address != '138.68.184.166']\n",
    "production_per_half_hour1 = pd.DataFrame({\"count\": 1}, index=production1['created_at']).resample('30Min').count()\n",
    "count1 = production_per_half_hour1['count']"
   ]
  },
  {
   "cell_type": "code",
   "execution_count": 62,
   "metadata": {},
   "outputs": [
    {
     "data": {
      "text/plain": [
       "<matplotlib.axes._subplots.AxesSubplot at 0x11183d048>"
      ]
     },
     "execution_count": 62,
     "metadata": {},
     "output_type": "execute_result"
    },
    {
     "data": {
      "image/png": "[encoded data removed]",
      "text/plain": [
       "<Figure size 432x288 with 1 Axes>"
      ]
     },
     "metadata": {},
     "output_type": "display_data"
    }
   ],
   "source": [
    "count1[count1 > 10].plot.bar()"
   ]
  },
  {
   "cell_type": "code",
   "execution_count": null,
   "metadata": {},
   "outputs": [],
   "source": []
  }
 ],
 "metadata": {
  "kernelspec": {
   "display_name": "Python 3",
   "language": "python",
   "name": "python3"
  },
  "language_info": {
   "codemirror_mode": {
    "name": "ipython",
    "version": 3
   },
   "file_extension": ".py",
   "mimetype": "text/x-python",
   "name": "python",
   "nbconvert_exporter": "python",
   "pygments_lexer": "ipython3",
   "version": "3.6.5"
  }
 },
 "nbformat": 4,
 "nbformat_minor": 2
}
