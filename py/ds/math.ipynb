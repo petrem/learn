{
 "cells": [
  {
   "cell_type": "code",
   "execution_count": 2,
   "metadata": {},
   "outputs": [],
   "source": [
    "from functools import partial, reduce\n",
    "from itertools import *\n",
    "import operator\n",
    "import math\n",
    "\n",
    "from datascience import *\n",
    "import numpy as np\n",
    "import pandas as pd\n",
    "import matplotlib.pyplot as plt\n",
    "\n",
    "%matplotlib inline\n",
    "plt.style.use('fivethirtyeight')\n",
    "\n",
    "pd.set_option(\"display.max_rows\", 10)"
   ]
  },
  {
   "cell_type": "markdown",
   "metadata": {},
   "source": [
    "## Linear equation and lines\n",
    "\n",
    "$$ ax + b = 0 \\implies x = \\frac{-b}{a} $$\n",
    "\n",
    "### Slope\n",
    "Given points $(x_1, y_1), (x_2, y_2)$\n",
    "$$ m = \\frac{y_2 - y_1}{x_2 - x_1} $$\n",
    "\n",
    "### Slope and intercept\n",
    "\n",
    "Given a line $y = mx +b $\n",
    "* m is the slope\n",
    "* b is the y-intercept\n",
    "\n",
    "### Point-slope formula\n",
    "Given a slope m and a point $(x_1, y_1)$\n",
    "$$ y−y_1=m(x−x_1) $$"
   ]
  },
  {
   "cell_type": "markdown",
   "metadata": {},
   "source": [
    "## quadratic equation\n",
    "$$ f(x) = ax^2 + bx +c $$\n",
    "$$x_{1,2} = \\frac{-b \\pm \\sqrt{b^2 - 4ac}}{2a} $$"
   ]
  },
  {
   "cell_type": "markdown",
   "metadata": {},
   "source": [
    "## quadratic formulas\n",
    "\n",
    "### Typical stuff\n",
    "\n",
    "$$ (a + b)^2 = (a + b)(a + b) = a^2 + 2ab + b^2 $$\n",
    "$$ (a - b)^2 = (a - b)(a - b) = a^2 - 2ab + b^2 $$\n",
    "$$ (a + b)(a - b) = a^2 - b^2 $$\n",
    "\n",
    "$$(x+a)(x+b) = x^2 + (a+b)x + ab$$\n",
    "$$(x+a)(x-b) = x^2 + (a-b)x - ab$$\n",
    "$$(x-a)(x-b) = x^2 - (a+b)x + ab$$\n",
    "\n",
    "### completing the square\n",
    "\n",
    "Given $ax^2 + bx + c$, it can be written as $a\\big(x+\\frac{b}{2a}\\big)^2 -a\\big(\\frac{b}{2a}\\big)^2+c$\n",
    "\n",
    "This is from:\n",
    "$$a\\left(x^2+\\frac{b}{a}x\\right)+c$$\n",
    "Now take $\\frac{b}{a}$ divided by 2 and sqared, add and subtract it:\n",
    "$$a \\left[ x^2 + \\frac{b}{a}x + \\left( \\frac{b}{2a} \\right)^2 - \\left( \\frac{b}{2a} \\right)^2 \\right] + c$$\n",
    "$$a \\left[ x^2 + \\frac{b}{a}x + \\left( \\frac{b}{2a} \\right)^2 \\right] - a\\left(\\frac{b}{2a}\\right)^2+c$$\n",
    "Notice that in the square parens we now have a perfect square:\n",
    "$$a \\left[ x + \\left( \\frac{b}{2a} \\right) \\right]^2 - a\\left(\\frac{b}{2a}\\right)^2+c$$"
   ]
  },
  {
   "cell_type": "markdown",
   "metadata": {},
   "source": [
    "## factors theorem\n",
    "Given a polinomial P and a root k of P:\n",
    "$$P(x) = 0, \\forall k \\quad\\text{so that}\\quad P(k) = 0 \\iff P(x) = (x-k)q(x)$$\n",
    "where q(x) is a polinomial."
   ]
  },
  {
   "cell_type": "markdown",
   "metadata": {},
   "source": [
    "$$4x^2 - 5$$\n",
    "$$4(x+3)^2 - 5$$\n",
    "$$4(x^2 + 6x + 9) - 5$$\n",
    "$$4x^2 +24x +31 $$"
   ]
  },
  {
   "cell_type": "markdown",
   "metadata": {},
   "source": [
    "## functions\n",
    "\n",
    "* $ \\text{if}\\quad f(x) = f(-x), \\quad\\text{f is even}$ -- symmetric with respect to the y axis\n",
    "* $ \\text{if}\\quad f(x) = - f(-x), \\quad\\text{f is odd}$ -- rotational symmetry with respect to the orginin\n",
    "* a one-to-one function (injection) preserves distinctness; its graph is never intersected by any horizontal line twice: $\\forall x_1, x_2, x_1 \\ne x_2 \\implies f(x_1) \\ne f(x_2)$"
   ]
  },
  {
   "cell_type": "markdown",
   "metadata": {},
   "source": [
    "# logarithms\n",
    "\n",
    "if $M = a^x$,  $log_a(M)=x$ (where $M,a \\in \\mathbb{R}_{\\ge0}$ and $a \\ne 1$)\n",
    "\n",
    "## properties\n",
    "\n",
    "* $\\log_a{(MN)}=\\log_a{M}+\\log_a{N}$\n",
    "* $\\log_a{\\frac{M}{N}}=\\log_a{M} - \\log_a{N}$\n",
    "* $\\log_a{M^p}=p\\log_a{M}$\n",
    "* $\\forall a \\ge 0$, $\\log_a{1}=0$ (obviously, since $a^0 = 1$)\n",
    "* $\\log_a{b}=\\frac{\\log_c{b}}{\\log_c{a}}$ with $a,b,c \\in \\mathbb{R}_{\\ge0}$ and $a,c \\ne 1$\n",
    "  \n",
    "  proof:\n",
    "  $$\\log_a{b} = x \\iff a^x=b$$\n",
    "  applying log on the equality\n",
    "  $$\\log_c{a^x} = \\log_c{b}$$\n",
    "  $$x\\log_c{a} = \\log_c{b}$$\n",
    "  $$x = \\frac{\\log_c{b}}{\\log_c{a}}$$"
   ]
  },
  {
   "cell_type": "markdown",
   "metadata": {},
   "source": [
    "## Euler's number\n",
    "\n",
    "Suppose we have an amount P that increases with a certain rate r, over an interval.\n",
    "\n",
    "$$ P_1 = P_0 + P_0 r = P_0(1+r) $$\n",
    "$$ P_2 = P_1 + P_1 r = P_1(1+r) = P_0(1+r)(1+r) = P_0(1+r)^2 $$\n",
    "$$ ... $$\n",
    "$$ P_t = P_0(1+r)^t $$\n",
    "\n",
    "with $r, 0 \\lt r \\le 1$ being the change rate over an interval, $P_t$ the amount after t intervals.\n",
    "\n",
    "If the amount increases occur, however, $n$ times during each interval of time, with the amount compounded each $\\frac{t}{n}$ times.\n",
    "\n",
    "$$ P_1 = P_0 + P_0 \\frac{r}{n} + P_0 ... $$\n",
    "\n",
    "tbd\n",
    "\n",
    "$$ P_t = P_0 \\big(1 + \\frac{r}{n}\\big)^{nt} $$\n",
    "\n",
    "If n increases without bound (the compounding becomes continuous):\n",
    "\n",
    "$$ P_t = \\lim_{n\\to\\infty} P_0 \\big(1 + \\frac{r}{n}\\big)^{nt} = P_0 \\lim_{n\\to\\infty} \\big(1 + \\frac{r}{n}\\big)^{nt} $$\n",
    "\n",
    "Rewrite $nt$ as $\\frac{n}{r}(rt)$:\n",
    "\n",
    "$$ P_t = P_0 \\lim_{n\\to\\infty} \\big(1 + \\frac{r}{n}\\big)^{\\frac{n}{r}(rt)} $$\n",
    "$$ P_t = P_0 \\lim_{n\\to\\infty} \\Big[\\big(1 + \\frac{r}{n}\\big)^{\\frac{n}{r}}\\Big]^{rt} $$\n",
    "\n",
    "Let $h = \\frac{n}{r}$, so that $\\frac{r}{n} = \\frac{1}{h}$:\n",
    "\n",
    "$$ P_t = P_0 \\lim_{n\\to\\infty} \\Big[\\big(1 + \\frac{1}{h}\\big)^{h}\\Big]^{rt} $$\n",
    "\n",
    "As $h = \\frac{n}{r}$, as $n$ increases, $h$ increases too. Let's see how $\\big(1 + \\frac{1}{h}\\big)^{h}$ changes as $h$ increases:"
   ]
  },
  {
   "cell_type": "code",
   "execution_count": 18,
   "metadata": {},
   "outputs": [
    {
     "data": {
      "text/html": [
       "<div>\n",
       "<style scoped>\n",
       "    .dataframe tbody tr th:only-of-type {\n",
       "        vertical-align: middle;\n",
       "    }\n",
       "\n",
       "    .dataframe tbody tr th {\n",
       "        vertical-align: top;\n",
       "    }\n",
       "\n",
       "    .dataframe thead th {\n",
       "        text-align: right;\n",
       "    }\n",
       "</style>\n",
       "<table border=\"1\" class=\"dataframe\">\n",
       "  <thead>\n",
       "    <tr style=\"text-align: right;\">\n",
       "      <th></th>\n",
       "      <th>h</th>\n",
       "      <th>y</th>\n",
       "    </tr>\n",
       "  </thead>\n",
       "  <tbody>\n",
       "    <tr>\n",
       "      <th>0</th>\n",
       "      <td>10</td>\n",
       "      <td>2.593742</td>\n",
       "    </tr>\n",
       "    <tr>\n",
       "      <th>1</th>\n",
       "      <td>100</td>\n",
       "      <td>2.704814</td>\n",
       "    </tr>\n",
       "    <tr>\n",
       "      <th>2</th>\n",
       "      <td>1000</td>\n",
       "      <td>2.716924</td>\n",
       "    </tr>\n",
       "    <tr>\n",
       "      <th>3</th>\n",
       "      <td>10000</td>\n",
       "      <td>2.718146</td>\n",
       "    </tr>\n",
       "    <tr>\n",
       "      <th>4</th>\n",
       "      <td>100000</td>\n",
       "      <td>2.718268</td>\n",
       "    </tr>\n",
       "    <tr>\n",
       "      <th>5</th>\n",
       "      <td>1000000</td>\n",
       "      <td>2.718280</td>\n",
       "    </tr>\n",
       "    <tr>\n",
       "      <th>6</th>\n",
       "      <td>10000000</td>\n",
       "      <td>2.718282</td>\n",
       "    </tr>\n",
       "    <tr>\n",
       "      <th>7</th>\n",
       "      <td>100000000</td>\n",
       "      <td>2.718282</td>\n",
       "    </tr>\n",
       "    <tr>\n",
       "      <th>8</th>\n",
       "      <td>1000000000</td>\n",
       "      <td>2.718282</td>\n",
       "    </tr>\n",
       "  </tbody>\n",
       "</table>\n",
       "</div>"
      ],
      "text/plain": [
       "            h         y\n",
       "0          10  2.593742\n",
       "1         100  2.704814\n",
       "2        1000  2.716924\n",
       "3       10000  2.718146\n",
       "4      100000  2.718268\n",
       "5     1000000  2.718280\n",
       "6    10000000  2.718282\n",
       "7   100000000  2.718282\n",
       "8  1000000000  2.718282"
      ]
     },
     "metadata": {},
     "output_type": "display_data"
    }
   ],
   "source": [
    "hs = 10 ** np.arange(1, 10)\n",
    "def y(h):\n",
    "    return (1+1/h)**h\n",
    "ys = np.vectorize(y)(hs)\n",
    "df = pd.DataFrame({\"h\": hs, \"y\": ys})\n",
    "display(df)"
   ]
  },
  {
   "cell_type": "markdown",
   "metadata": {},
   "source": [
    "As you can see, $\\lim_{h\\to\\infty} \\big(1 + \\frac{1}{h}\\big)^{h} \\approx 2.7182$. This is known as $e$, Euler's number.\n",
    "\n",
    "Therefore, \n",
    "$$ P_t = P_0 e^{rt}$$"
   ]
  },
  {
   "cell_type": "code",
   "execution_count": null,
   "metadata": {},
   "outputs": [],
   "source": []
  }
 ],
 "metadata": {
  "kernelspec": {
   "display_name": "Python 3",
   "language": "python",
   "name": "python3"
  },
  "language_info": {
   "codemirror_mode": {
    "name": "ipython",
    "version": 3
   },
   "file_extension": ".py",
   "mimetype": "text/x-python",
   "name": "python",
   "nbconvert_exporter": "python",
   "pygments_lexer": "ipython3",
   "version": "3.7.0"
  }
 },
 "nbformat": 4,
 "nbformat_minor": 2
}
